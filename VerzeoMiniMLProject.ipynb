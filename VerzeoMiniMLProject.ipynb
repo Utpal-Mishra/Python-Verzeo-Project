{
  "nbformat": 4,
  "nbformat_minor": 0,
  "metadata": {
    "colab": {
      "name": "VerzeoMiniMLProject.ipynb",
      "provenance": [],
      "authorship_tag": "ABX9TyNtaRqZHCls+YfiLJbrPRf1",
      "include_colab_link": true
    },
    "kernelspec": {
      "name": "python3",
      "display_name": "Python 3"
    }
  },
  "cells": [
    {
      "cell_type": "markdown",
      "metadata": {
        "id": "view-in-github",
        "colab_type": "text"
      },
      "source": [
        "<a href=\"https://colab.research.google.com/github/Utpal-Mishra/Python-Verzeo-Project/blob/main/VerzeoMiniMLProject.ipynb\" target=\"_parent\"><img src=\"https://colab.research.google.com/assets/colab-badge.svg\" alt=\"Open In Colab\"/></a>"
      ]
    },
    {
      "cell_type": "markdown",
      "metadata": {
        "id": "CZ4wi4FCdeMZ"
      },
      "source": [
        "##MOUNT Drive"
      ]
    },
    {
      "cell_type": "code",
      "metadata": {
        "id": "r4iJwAVFPeeL",
        "colab": {
          "base_uri": "https://localhost:8080/",
          "height": 35
        },
        "outputId": "25f012a6-bfb8-4e16-d8d6-a20598accff3"
      },
      "source": [
        "from google.colab import drive\n",
        "drive.mount('/content/drive/')"
      ],
      "execution_count": null,
      "outputs": [
        {
          "output_type": "stream",
          "text": [
            "Drive already mounted at /content/drive/; to attempt to forcibly remount, call drive.mount(\"/content/drive/\", force_remount=True).\n"
          ],
          "name": "stdout"
        }
      ]
    },
    {
      "cell_type": "markdown",
      "metadata": {
        "id": "b7WMX48adauB"
      },
      "source": [
        "##IMPORT Data"
      ]
    },
    {
      "cell_type": "code",
      "metadata": {
        "id": "3_lIFzyeP4JE",
        "colab": {
          "base_uri": "https://localhost:8080/",
          "height": 638
        },
        "outputId": "042f8e3c-7fab-4665-cf73-6214f8689b7c"
      },
      "source": [
        "import pandas as pd\n",
        "\n",
        "path = '/content/drive/My Drive/Movies.xlsx'\n",
        "data = pd.read_excel(path)\n",
        "print(data.shape)\n",
        "data.head()"
      ],
      "execution_count": null,
      "outputs": [
        {
          "output_type": "stream",
          "text": [
            "(10866, 21)\n"
          ],
          "name": "stdout"
        },
        {
          "output_type": "execute_result",
          "data": {
            "text/html": [
              "<div>\n",
              "<style scoped>\n",
              "    .dataframe tbody tr th:only-of-type {\n",
              "        vertical-align: middle;\n",
              "    }\n",
              "\n",
              "    .dataframe tbody tr th {\n",
              "        vertical-align: top;\n",
              "    }\n",
              "\n",
              "    .dataframe thead th {\n",
              "        text-align: right;\n",
              "    }\n",
              "</style>\n",
              "<table border=\"1\" class=\"dataframe\">\n",
              "  <thead>\n",
              "    <tr style=\"text-align: right;\">\n",
              "      <th></th>\n",
              "      <th>id</th>\n",
              "      <th>imdb_id</th>\n",
              "      <th>popularity</th>\n",
              "      <th>budget</th>\n",
              "      <th>revenue</th>\n",
              "      <th>original_title</th>\n",
              "      <th>cast</th>\n",
              "      <th>homepage</th>\n",
              "      <th>director</th>\n",
              "      <th>tagline</th>\n",
              "      <th>keywords</th>\n",
              "      <th>overview</th>\n",
              "      <th>runtime</th>\n",
              "      <th>genres</th>\n",
              "      <th>production_companies</th>\n",
              "      <th>release_date</th>\n",
              "      <th>vote_count</th>\n",
              "      <th>vote_average</th>\n",
              "      <th>release_year</th>\n",
              "      <th>budget_adj</th>\n",
              "      <th>revenue_adj</th>\n",
              "    </tr>\n",
              "  </thead>\n",
              "  <tbody>\n",
              "    <tr>\n",
              "      <th>0</th>\n",
              "      <td>135397</td>\n",
              "      <td>tt0369610</td>\n",
              "      <td>32.985763</td>\n",
              "      <td>150000000</td>\n",
              "      <td>1513528810</td>\n",
              "      <td>Jurassic World</td>\n",
              "      <td>Chris Pratt|Bryce Dallas Howard|Irrfan Khan|Vi...</td>\n",
              "      <td>http://www.jurassicworld.com/</td>\n",
              "      <td>Colin Trevorrow</td>\n",
              "      <td>The park is open.</td>\n",
              "      <td>monster|dna|tyrannosaurus rex|velociraptor|island</td>\n",
              "      <td>Twenty-two years after the events of Jurassic ...</td>\n",
              "      <td>124</td>\n",
              "      <td>Action|Adventure|Science Fiction|Thriller</td>\n",
              "      <td>Universal Studios|Amblin Entertainment|Legenda...</td>\n",
              "      <td>2015-06-09 00:00:00</td>\n",
              "      <td>5562</td>\n",
              "      <td>6.5</td>\n",
              "      <td>2015</td>\n",
              "      <td>137999939.3</td>\n",
              "      <td>1.392446e+09</td>\n",
              "    </tr>\n",
              "    <tr>\n",
              "      <th>1</th>\n",
              "      <td>76341</td>\n",
              "      <td>tt1392190</td>\n",
              "      <td>28.419936</td>\n",
              "      <td>150000000</td>\n",
              "      <td>378436354</td>\n",
              "      <td>Mad Max: Fury Road</td>\n",
              "      <td>Tom Hardy|Charlize Theron|Hugh Keays-Byrne|Nic...</td>\n",
              "      <td>http://www.madmaxmovie.com/</td>\n",
              "      <td>George Miller</td>\n",
              "      <td>What a Lovely Day.</td>\n",
              "      <td>future|chase|post-apocalyptic|dystopia|australia</td>\n",
              "      <td>An apocalyptic story set in the furthest reach...</td>\n",
              "      <td>120</td>\n",
              "      <td>Action|Adventure|Science Fiction|Thriller</td>\n",
              "      <td>Village Roadshow Pictures|Kennedy Miller Produ...</td>\n",
              "      <td>5/13/15</td>\n",
              "      <td>6185</td>\n",
              "      <td>7.1</td>\n",
              "      <td>2015</td>\n",
              "      <td>137999939.3</td>\n",
              "      <td>3.481613e+08</td>\n",
              "    </tr>\n",
              "    <tr>\n",
              "      <th>2</th>\n",
              "      <td>262500</td>\n",
              "      <td>tt2908446</td>\n",
              "      <td>13.112507</td>\n",
              "      <td>110000000</td>\n",
              "      <td>295238201</td>\n",
              "      <td>Insurgent</td>\n",
              "      <td>Shailene Woodley|Theo James|Kate Winslet|Ansel...</td>\n",
              "      <td>http://www.thedivergentseries.movie/#insurgent</td>\n",
              "      <td>Robert Schwentke</td>\n",
              "      <td>One Choice Can Destroy You</td>\n",
              "      <td>based on novel|revolution|dystopia|sequel|dyst...</td>\n",
              "      <td>Beatrice Prior must confront her inner demons ...</td>\n",
              "      <td>119</td>\n",
              "      <td>Adventure|Science Fiction|Thriller</td>\n",
              "      <td>Summit Entertainment|Mandeville Films|Red Wago...</td>\n",
              "      <td>3/18/15</td>\n",
              "      <td>2480</td>\n",
              "      <td>6.3</td>\n",
              "      <td>2015</td>\n",
              "      <td>101199955.5</td>\n",
              "      <td>2.716190e+08</td>\n",
              "    </tr>\n",
              "    <tr>\n",
              "      <th>3</th>\n",
              "      <td>140607</td>\n",
              "      <td>tt2488496</td>\n",
              "      <td>11.173104</td>\n",
              "      <td>200000000</td>\n",
              "      <td>2068178225</td>\n",
              "      <td>Star Wars: The Force Awakens</td>\n",
              "      <td>Harrison Ford|Mark Hamill|Carrie Fisher|Adam D...</td>\n",
              "      <td>http://www.starwars.com/films/star-wars-episod...</td>\n",
              "      <td>J.J. Abrams</td>\n",
              "      <td>Every generation has a story.</td>\n",
              "      <td>android|spaceship|jedi|space opera|3d</td>\n",
              "      <td>Thirty years after defeating the Galactic Empi...</td>\n",
              "      <td>136</td>\n",
              "      <td>Action|Adventure|Science Fiction|Fantasy</td>\n",
              "      <td>Lucasfilm|Truenorth Productions|Bad Robot</td>\n",
              "      <td>12/15/15</td>\n",
              "      <td>5292</td>\n",
              "      <td>7.5</td>\n",
              "      <td>2015</td>\n",
              "      <td>183999919.0</td>\n",
              "      <td>1.902723e+09</td>\n",
              "    </tr>\n",
              "    <tr>\n",
              "      <th>4</th>\n",
              "      <td>168259</td>\n",
              "      <td>tt2820852</td>\n",
              "      <td>9.335014</td>\n",
              "      <td>190000000</td>\n",
              "      <td>1506249360</td>\n",
              "      <td>Furious 7</td>\n",
              "      <td>Vin Diesel|Paul Walker|Jason Statham|Michelle ...</td>\n",
              "      <td>http://www.furious7.com/</td>\n",
              "      <td>James Wan</td>\n",
              "      <td>Vengeance Hits Home</td>\n",
              "      <td>car race|speed|revenge|suspense|car</td>\n",
              "      <td>Deckard Shaw seeks revenge against Dominic Tor...</td>\n",
              "      <td>137</td>\n",
              "      <td>Action|Crime|Thriller</td>\n",
              "      <td>Universal Pictures|Original Film|Media Rights ...</td>\n",
              "      <td>2015-04-01 00:00:00</td>\n",
              "      <td>2947</td>\n",
              "      <td>7.3</td>\n",
              "      <td>2015</td>\n",
              "      <td>174799923.1</td>\n",
              "      <td>1.385749e+09</td>\n",
              "    </tr>\n",
              "  </tbody>\n",
              "</table>\n",
              "</div>"
            ],
            "text/plain": [
              "       id    imdb_id  popularity  ...  release_year   budget_adj   revenue_adj\n",
              "0  135397  tt0369610   32.985763  ...          2015  137999939.3  1.392446e+09\n",
              "1   76341  tt1392190   28.419936  ...          2015  137999939.3  3.481613e+08\n",
              "2  262500  tt2908446   13.112507  ...          2015  101199955.5  2.716190e+08\n",
              "3  140607  tt2488496   11.173104  ...          2015  183999919.0  1.902723e+09\n",
              "4  168259  tt2820852    9.335014  ...          2015  174799923.1  1.385749e+09\n",
              "\n",
              "[5 rows x 21 columns]"
            ]
          },
          "metadata": {
            "tags": []
          },
          "execution_count": 571
        }
      ]
    },
    {
      "cell_type": "markdown",
      "metadata": {
        "id": "4Aq3eyhxrMPT"
      },
      "source": [
        "###DATA Description"
      ]
    },
    {
      "cell_type": "code",
      "metadata": {
        "id": "wIKvwtjfQTNh",
        "colab": {
          "base_uri": "https://localhost:8080/",
          "height": 260
        },
        "outputId": "324340d8-6b5c-4f89-f6ae-2739a58d7df4"
      },
      "source": [
        "data.describe"
      ],
      "execution_count": null,
      "outputs": [
        {
          "output_type": "execute_result",
          "data": {
            "text/plain": [
              "<bound method NDFrame.describe of            id    imdb_id  popularity  ...  release_year    budget_adj   revenue_adj\n",
              "0      135397  tt0369610   32.985763  ...          2015  1.379999e+08  1.392446e+09\n",
              "1       76341  tt1392190   28.419936  ...          2015  1.379999e+08  3.481613e+08\n",
              "2      262500  tt2908446   13.112507  ...          2015  1.012000e+08  2.716190e+08\n",
              "3      140607  tt2488496   11.173104  ...          2015  1.839999e+08  1.902723e+09\n",
              "4      168259  tt2820852    9.335014  ...          2015  1.747999e+08  1.385749e+09\n",
              "...       ...        ...         ...  ...           ...           ...           ...\n",
              "10861      21  tt0060371    0.080598  ...          1966  0.000000e+00  0.000000e+00\n",
              "10862   20379  tt0060472    0.065543  ...          1966  0.000000e+00  0.000000e+00\n",
              "10863   39768  tt0060161    0.065141  ...          1966  0.000000e+00  0.000000e+00\n",
              "10864   21449  tt0061177    0.064317  ...          1966  0.000000e+00  0.000000e+00\n",
              "10865   22293  tt0060666    0.035919  ...          1966  1.276423e+05  0.000000e+00\n",
              "\n",
              "[10866 rows x 21 columns]>"
            ]
          },
          "metadata": {
            "tags": []
          },
          "execution_count": 539
        }
      ]
    },
    {
      "cell_type": "code",
      "metadata": {
        "id": "Zl5bPYqtRJqz",
        "colab": {
          "base_uri": "https://localhost:8080/",
          "height": 503
        },
        "outputId": "eb3df8e6-20bd-46fe-89c0-b7dd3a1caed6"
      },
      "source": [
        "data.info()"
      ],
      "execution_count": null,
      "outputs": [
        {
          "output_type": "stream",
          "text": [
            "<class 'pandas.core.frame.DataFrame'>\n",
            "RangeIndex: 10866 entries, 0 to 10865\n",
            "Data columns (total 21 columns):\n",
            " #   Column                Non-Null Count  Dtype  \n",
            "---  ------                --------------  -----  \n",
            " 0   id                    10866 non-null  int64  \n",
            " 1   imdb_id               10856 non-null  object \n",
            " 2   popularity            10866 non-null  float64\n",
            " 3   budget                10866 non-null  int64  \n",
            " 4   revenue               10866 non-null  int64  \n",
            " 5   original_title        10866 non-null  object \n",
            " 6   cast                  10790 non-null  object \n",
            " 7   homepage              2936 non-null   object \n",
            " 8   director              10822 non-null  object \n",
            " 9   tagline               8042 non-null   object \n",
            " 10  keywords              9373 non-null   object \n",
            " 11  overview              10862 non-null  object \n",
            " 12  runtime               10866 non-null  int64  \n",
            " 13  genres                10843 non-null  object \n",
            " 14  production_companies  9836 non-null   object \n",
            " 15  release_date          10866 non-null  object \n",
            " 16  vote_count            10866 non-null  int64  \n",
            " 17  vote_average          10866 non-null  float64\n",
            " 18  release_year          10866 non-null  int64  \n",
            " 19  budget_adj            10866 non-null  float64\n",
            " 20  revenue_adj           10866 non-null  float64\n",
            "dtypes: float64(4), int64(6), object(11)\n",
            "memory usage: 1.7+ MB\n"
          ],
          "name": "stdout"
        }
      ]
    },
    {
      "cell_type": "markdown",
      "metadata": {
        "id": "aT4-6Uv1dEDI"
      },
      "source": [
        "##Data PRE-PROCESSING"
      ]
    },
    {
      "cell_type": "code",
      "metadata": {
        "id": "4NoMKg7wRUCv"
      },
      "source": [
        "data.popularity = data.popularity.apply(lambda x: round(x, 6))\n",
        "data.vote_average = data.vote_average.apply(lambda x: round(x, 1))\n",
        "data.budget_adj = data.budget_adj.apply(lambda x: round(x, 2))"
      ],
      "execution_count": null,
      "outputs": []
    },
    {
      "cell_type": "code",
      "metadata": {
        "id": "21kDBNPs90gR",
        "colab": {
          "base_uri": "https://localhost:8080/",
          "height": 72
        },
        "outputId": "fe7ac1ab-4f64-4bd6-b2b0-c93ba9b079ac"
      },
      "source": [
        "data.release_data = pd.to_datetime(data.release_date)\n",
        "data.original_title = data.original_title.astype(str)"
      ],
      "execution_count": null,
      "outputs": [
        {
          "output_type": "stream",
          "text": [
            "/usr/local/lib/python3.6/dist-packages/ipykernel_launcher.py:1: UserWarning: Pandas doesn't allow columns to be created via a new attribute name - see https://pandas.pydata.org/pandas-docs/stable/indexing.html#attribute-access\n",
            "  \"\"\"Entry point for launching an IPython kernel.\n"
          ],
          "name": "stderr"
        }
      ]
    },
    {
      "cell_type": "code",
      "metadata": {
        "id": "13z05PN6RH3l",
        "colab": {
          "base_uri": "https://localhost:8080/",
          "height": 399
        },
        "outputId": "f3fb87b5-8538-4eb5-fc98-188b9c782052"
      },
      "source": [
        "data.isnull().sum()"
      ],
      "execution_count": null,
      "outputs": [
        {
          "output_type": "execute_result",
          "data": {
            "text/plain": [
              "id                         0\n",
              "imdb_id                   10\n",
              "popularity                 0\n",
              "budget                     0\n",
              "revenue                    0\n",
              "original_title             0\n",
              "cast                      76\n",
              "homepage                7930\n",
              "director                  44\n",
              "tagline                 2824\n",
              "keywords                1493\n",
              "overview                   4\n",
              "runtime                    0\n",
              "genres                    23\n",
              "production_companies    1030\n",
              "release_date               0\n",
              "vote_count                 0\n",
              "vote_average               0\n",
              "release_year               0\n",
              "budget_adj                 0\n",
              "revenue_adj                0\n",
              "dtype: int64"
            ]
          },
          "metadata": {
            "tags": []
          },
          "execution_count": 543
        }
      ]
    },
    {
      "cell_type": "markdown",
      "metadata": {
        "id": "544QDk77hQDO"
      },
      "source": [
        "> Since all the NULL Entries belongs to a unique categorical column, all of them are moved "
      ]
    },
    {
      "cell_type": "code",
      "metadata": {
        "id": "6YZtiyQIRjsu",
        "colab": {
          "base_uri": "https://localhost:8080/",
          "height": 35
        },
        "outputId": "a01ebd8c-d393-4c77-cd06-03f8bfe05b01"
      },
      "source": [
        "#data = data.drop()\n",
        "\n",
        "data = data[data['homepage'].notna()]\n",
        "data = data[data['tagline'].notna()]\n",
        "data = data[data['keywords'].notna()]\n",
        "data = data[data['production_companies'].notna()]\n",
        "data = data[data['director'].notna()]\n",
        "data = data[data['cast'].notna()]\n",
        "print(\"RESHAPED Data Size :: \",data.shape)"
      ],
      "execution_count": null,
      "outputs": [
        {
          "output_type": "stream",
          "text": [
            "RESHAPED Data Size ::  (1992, 21)\n"
          ],
          "name": "stdout"
        }
      ]
    },
    {
      "cell_type": "code",
      "metadata": {
        "id": "Y-qsOR-oisie",
        "colab": {
          "base_uri": "https://localhost:8080/",
          "height": 399
        },
        "outputId": "84b4cdd4-aa4e-4042-f461-d6681a8c0128"
      },
      "source": [
        "data.isnull().sum()"
      ],
      "execution_count": null,
      "outputs": [
        {
          "output_type": "execute_result",
          "data": {
            "text/plain": [
              "id                      0\n",
              "imdb_id                 0\n",
              "popularity              0\n",
              "budget                  0\n",
              "revenue                 0\n",
              "original_title          0\n",
              "cast                    0\n",
              "homepage                0\n",
              "director                0\n",
              "tagline                 0\n",
              "keywords                0\n",
              "overview                0\n",
              "runtime                 0\n",
              "genres                  0\n",
              "production_companies    0\n",
              "release_date            0\n",
              "vote_count              0\n",
              "vote_average            0\n",
              "release_year            0\n",
              "budget_adj              0\n",
              "revenue_adj             0\n",
              "dtype: int64"
            ]
          },
          "metadata": {
            "tags": []
          },
          "execution_count": 545
        }
      ]
    },
    {
      "cell_type": "markdown",
      "metadata": {
        "id": "ToMK9d1_h24V"
      },
      "source": [
        "> Since budget of any movies cannot be Zero, all the rows containing such entries are dropped."
      ]
    },
    {
      "cell_type": "code",
      "metadata": {
        "id": "MMTB0e3aiPUF",
        "colab": {
          "base_uri": "https://localhost:8080/",
          "height": 35
        },
        "outputId": "f23d79b6-a23b-45a9-fe67-8a4b4085d3e7"
      },
      "source": [
        "data = data[data['budget'] != 0]\n",
        "print(\"RESHAPED Data Size :: \",data.shape)"
      ],
      "execution_count": null,
      "outputs": [
        {
          "output_type": "stream",
          "text": [
            "RESHAPED Data Size ::  (1446, 21)\n"
          ],
          "name": "stdout"
        }
      ]
    },
    {
      "cell_type": "code",
      "metadata": {
        "id": "EVjc2Zsj5nGx",
        "colab": {
          "base_uri": "https://localhost:8080/",
          "height": 1121
        },
        "outputId": "c7818a2a-f5ef-413c-996b-f381a349fb3d"
      },
      "source": [
        "data = data[data['budget'] > 20000]\n",
        "print(\"RESHAPED Data Size :: \", data.shape)\n",
        "data.head(10)"
      ],
      "execution_count": null,
      "outputs": [
        {
          "output_type": "stream",
          "text": [
            "RESHAPED Data Size ::  (1430, 21)\n"
          ],
          "name": "stdout"
        },
        {
          "output_type": "execute_result",
          "data": {
            "text/html": [
              "<div>\n",
              "<style scoped>\n",
              "    .dataframe tbody tr th:only-of-type {\n",
              "        vertical-align: middle;\n",
              "    }\n",
              "\n",
              "    .dataframe tbody tr th {\n",
              "        vertical-align: top;\n",
              "    }\n",
              "\n",
              "    .dataframe thead th {\n",
              "        text-align: right;\n",
              "    }\n",
              "</style>\n",
              "<table border=\"1\" class=\"dataframe\">\n",
              "  <thead>\n",
              "    <tr style=\"text-align: right;\">\n",
              "      <th></th>\n",
              "      <th>id</th>\n",
              "      <th>imdb_id</th>\n",
              "      <th>popularity</th>\n",
              "      <th>budget</th>\n",
              "      <th>revenue</th>\n",
              "      <th>original_title</th>\n",
              "      <th>cast</th>\n",
              "      <th>homepage</th>\n",
              "      <th>director</th>\n",
              "      <th>tagline</th>\n",
              "      <th>keywords</th>\n",
              "      <th>overview</th>\n",
              "      <th>runtime</th>\n",
              "      <th>genres</th>\n",
              "      <th>production_companies</th>\n",
              "      <th>release_date</th>\n",
              "      <th>vote_count</th>\n",
              "      <th>vote_average</th>\n",
              "      <th>release_year</th>\n",
              "      <th>budget_adj</th>\n",
              "      <th>revenue_adj</th>\n",
              "    </tr>\n",
              "  </thead>\n",
              "  <tbody>\n",
              "    <tr>\n",
              "      <th>0</th>\n",
              "      <td>135397</td>\n",
              "      <td>tt0369610</td>\n",
              "      <td>32.985763</td>\n",
              "      <td>150000000</td>\n",
              "      <td>1513528810</td>\n",
              "      <td>Jurassic World</td>\n",
              "      <td>Chris Pratt|Bryce Dallas Howard|Irrfan Khan|Vi...</td>\n",
              "      <td>http://www.jurassicworld.com/</td>\n",
              "      <td>Colin Trevorrow</td>\n",
              "      <td>The park is open.</td>\n",
              "      <td>monster|dna|tyrannosaurus rex|velociraptor|island</td>\n",
              "      <td>Twenty-two years after the events of Jurassic ...</td>\n",
              "      <td>124</td>\n",
              "      <td>Action|Adventure|Science Fiction|Thriller</td>\n",
              "      <td>Universal Studios|Amblin Entertainment|Legenda...</td>\n",
              "      <td>2015-06-09 00:00:00</td>\n",
              "      <td>5562</td>\n",
              "      <td>6.5</td>\n",
              "      <td>2015</td>\n",
              "      <td>1.379999e+08</td>\n",
              "      <td>1.392446e+09</td>\n",
              "    </tr>\n",
              "    <tr>\n",
              "      <th>1</th>\n",
              "      <td>76341</td>\n",
              "      <td>tt1392190</td>\n",
              "      <td>28.419936</td>\n",
              "      <td>150000000</td>\n",
              "      <td>378436354</td>\n",
              "      <td>Mad Max: Fury Road</td>\n",
              "      <td>Tom Hardy|Charlize Theron|Hugh Keays-Byrne|Nic...</td>\n",
              "      <td>http://www.madmaxmovie.com/</td>\n",
              "      <td>George Miller</td>\n",
              "      <td>What a Lovely Day.</td>\n",
              "      <td>future|chase|post-apocalyptic|dystopia|australia</td>\n",
              "      <td>An apocalyptic story set in the furthest reach...</td>\n",
              "      <td>120</td>\n",
              "      <td>Action|Adventure|Science Fiction|Thriller</td>\n",
              "      <td>Village Roadshow Pictures|Kennedy Miller Produ...</td>\n",
              "      <td>5/13/15</td>\n",
              "      <td>6185</td>\n",
              "      <td>7.1</td>\n",
              "      <td>2015</td>\n",
              "      <td>1.379999e+08</td>\n",
              "      <td>3.481613e+08</td>\n",
              "    </tr>\n",
              "    <tr>\n",
              "      <th>2</th>\n",
              "      <td>262500</td>\n",
              "      <td>tt2908446</td>\n",
              "      <td>13.112507</td>\n",
              "      <td>110000000</td>\n",
              "      <td>295238201</td>\n",
              "      <td>Insurgent</td>\n",
              "      <td>Shailene Woodley|Theo James|Kate Winslet|Ansel...</td>\n",
              "      <td>http://www.thedivergentseries.movie/#insurgent</td>\n",
              "      <td>Robert Schwentke</td>\n",
              "      <td>One Choice Can Destroy You</td>\n",
              "      <td>based on novel|revolution|dystopia|sequel|dyst...</td>\n",
              "      <td>Beatrice Prior must confront her inner demons ...</td>\n",
              "      <td>119</td>\n",
              "      <td>Adventure|Science Fiction|Thriller</td>\n",
              "      <td>Summit Entertainment|Mandeville Films|Red Wago...</td>\n",
              "      <td>3/18/15</td>\n",
              "      <td>2480</td>\n",
              "      <td>6.3</td>\n",
              "      <td>2015</td>\n",
              "      <td>1.012000e+08</td>\n",
              "      <td>2.716190e+08</td>\n",
              "    </tr>\n",
              "    <tr>\n",
              "      <th>3</th>\n",
              "      <td>140607</td>\n",
              "      <td>tt2488496</td>\n",
              "      <td>11.173104</td>\n",
              "      <td>200000000</td>\n",
              "      <td>2068178225</td>\n",
              "      <td>Star Wars: The Force Awakens</td>\n",
              "      <td>Harrison Ford|Mark Hamill|Carrie Fisher|Adam D...</td>\n",
              "      <td>http://www.starwars.com/films/star-wars-episod...</td>\n",
              "      <td>J.J. Abrams</td>\n",
              "      <td>Every generation has a story.</td>\n",
              "      <td>android|spaceship|jedi|space opera|3d</td>\n",
              "      <td>Thirty years after defeating the Galactic Empi...</td>\n",
              "      <td>136</td>\n",
              "      <td>Action|Adventure|Science Fiction|Fantasy</td>\n",
              "      <td>Lucasfilm|Truenorth Productions|Bad Robot</td>\n",
              "      <td>12/15/15</td>\n",
              "      <td>5292</td>\n",
              "      <td>7.5</td>\n",
              "      <td>2015</td>\n",
              "      <td>1.839999e+08</td>\n",
              "      <td>1.902723e+09</td>\n",
              "    </tr>\n",
              "    <tr>\n",
              "      <th>4</th>\n",
              "      <td>168259</td>\n",
              "      <td>tt2820852</td>\n",
              "      <td>9.335014</td>\n",
              "      <td>190000000</td>\n",
              "      <td>1506249360</td>\n",
              "      <td>Furious 7</td>\n",
              "      <td>Vin Diesel|Paul Walker|Jason Statham|Michelle ...</td>\n",
              "      <td>http://www.furious7.com/</td>\n",
              "      <td>James Wan</td>\n",
              "      <td>Vengeance Hits Home</td>\n",
              "      <td>car race|speed|revenge|suspense|car</td>\n",
              "      <td>Deckard Shaw seeks revenge against Dominic Tor...</td>\n",
              "      <td>137</td>\n",
              "      <td>Action|Crime|Thriller</td>\n",
              "      <td>Universal Pictures|Original Film|Media Rights ...</td>\n",
              "      <td>2015-04-01 00:00:00</td>\n",
              "      <td>2947</td>\n",
              "      <td>7.3</td>\n",
              "      <td>2015</td>\n",
              "      <td>1.747999e+08</td>\n",
              "      <td>1.385749e+09</td>\n",
              "    </tr>\n",
              "    <tr>\n",
              "      <th>5</th>\n",
              "      <td>281957</td>\n",
              "      <td>tt1663202</td>\n",
              "      <td>9.110700</td>\n",
              "      <td>135000000</td>\n",
              "      <td>532950503</td>\n",
              "      <td>The Revenant</td>\n",
              "      <td>Leonardo DiCaprio|Tom Hardy|Will Poulter|Domhn...</td>\n",
              "      <td>http://www.foxmovies.com/movies/the-revenant</td>\n",
              "      <td>Alejandro González Iñárritu</td>\n",
              "      <td>(n. One who has returned, as if from the dead.)</td>\n",
              "      <td>father-son relationship|rape|based on novel|mo...</td>\n",
              "      <td>In the 1820s, a frontiersman, Hugh Glass, sets...</td>\n",
              "      <td>156</td>\n",
              "      <td>Western|Drama|Adventure|Thriller</td>\n",
              "      <td>Regency Enterprises|Appian Way|CatchPlay|Anony...</td>\n",
              "      <td>12/25/15</td>\n",
              "      <td>3929</td>\n",
              "      <td>7.2</td>\n",
              "      <td>2015</td>\n",
              "      <td>1.241999e+08</td>\n",
              "      <td>4.903142e+08</td>\n",
              "    </tr>\n",
              "    <tr>\n",
              "      <th>6</th>\n",
              "      <td>87101</td>\n",
              "      <td>tt1340138</td>\n",
              "      <td>8.654359</td>\n",
              "      <td>155000000</td>\n",
              "      <td>440603537</td>\n",
              "      <td>Terminator Genisys</td>\n",
              "      <td>Arnold Schwarzenegger|Jason Clarke|Emilia Clar...</td>\n",
              "      <td>http://www.terminatormovie.com/</td>\n",
              "      <td>Alan Taylor</td>\n",
              "      <td>Reset the future</td>\n",
              "      <td>saving the world|artificial intelligence|cybor...</td>\n",
              "      <td>The year is 2029. John Connor, leader of the r...</td>\n",
              "      <td>125</td>\n",
              "      <td>Science Fiction|Action|Thriller|Adventure</td>\n",
              "      <td>Paramount Pictures|Skydance Productions</td>\n",
              "      <td>6/23/15</td>\n",
              "      <td>2598</td>\n",
              "      <td>5.8</td>\n",
              "      <td>2015</td>\n",
              "      <td>1.425999e+08</td>\n",
              "      <td>4.053551e+08</td>\n",
              "    </tr>\n",
              "    <tr>\n",
              "      <th>7</th>\n",
              "      <td>286217</td>\n",
              "      <td>tt3659388</td>\n",
              "      <td>7.667400</td>\n",
              "      <td>108000000</td>\n",
              "      <td>595380321</td>\n",
              "      <td>The Martian</td>\n",
              "      <td>Matt Damon|Jessica Chastain|Kristen Wiig|Jeff ...</td>\n",
              "      <td>http://www.foxmovies.com/movies/the-martian</td>\n",
              "      <td>Ridley Scott</td>\n",
              "      <td>Bring Him Home</td>\n",
              "      <td>based on novel|mars|nasa|isolation|botanist</td>\n",
              "      <td>During a manned mission to Mars, Astronaut Mar...</td>\n",
              "      <td>141</td>\n",
              "      <td>Drama|Adventure|Science Fiction</td>\n",
              "      <td>Twentieth Century Fox Film Corporation|Scott F...</td>\n",
              "      <td>9/30/15</td>\n",
              "      <td>4572</td>\n",
              "      <td>7.6</td>\n",
              "      <td>2015</td>\n",
              "      <td>9.935996e+07</td>\n",
              "      <td>5.477497e+08</td>\n",
              "    </tr>\n",
              "    <tr>\n",
              "      <th>8</th>\n",
              "      <td>211672</td>\n",
              "      <td>tt2293640</td>\n",
              "      <td>7.404165</td>\n",
              "      <td>74000000</td>\n",
              "      <td>1156730962</td>\n",
              "      <td>Minions</td>\n",
              "      <td>Sandra Bullock|Jon Hamm|Michael Keaton|Allison...</td>\n",
              "      <td>http://www.minionsmovie.com/</td>\n",
              "      <td>Kyle Balda|Pierre Coffin</td>\n",
              "      <td>Before Gru, they had a history of bad bosses</td>\n",
              "      <td>assistant|aftercreditsstinger|duringcreditssti...</td>\n",
              "      <td>Minions Stuart, Kevin and Bob are recruited by...</td>\n",
              "      <td>91</td>\n",
              "      <td>Family|Animation|Adventure|Comedy</td>\n",
              "      <td>Universal Pictures|Illumination Entertainment</td>\n",
              "      <td>6/17/15</td>\n",
              "      <td>2893</td>\n",
              "      <td>6.5</td>\n",
              "      <td>2015</td>\n",
              "      <td>6.807997e+07</td>\n",
              "      <td>1.064192e+09</td>\n",
              "    </tr>\n",
              "    <tr>\n",
              "      <th>9</th>\n",
              "      <td>150540</td>\n",
              "      <td>tt2096673</td>\n",
              "      <td>6.326804</td>\n",
              "      <td>175000000</td>\n",
              "      <td>853708609</td>\n",
              "      <td>Inside Out</td>\n",
              "      <td>Amy Poehler|Phyllis Smith|Richard Kind|Bill Ha...</td>\n",
              "      <td>http://movies.disney.com/inside-out</td>\n",
              "      <td>Pete Docter</td>\n",
              "      <td>Meet the little voices inside your head.</td>\n",
              "      <td>dream|cartoon|imaginary friend|animation|kid</td>\n",
              "      <td>Growing up can be a bumpy road, and it's no ex...</td>\n",
              "      <td>94</td>\n",
              "      <td>Comedy|Animation|Family</td>\n",
              "      <td>Walt Disney Pictures|Pixar Animation Studios|W...</td>\n",
              "      <td>2015-06-09 00:00:00</td>\n",
              "      <td>3935</td>\n",
              "      <td>8.0</td>\n",
              "      <td>2015</td>\n",
              "      <td>1.609999e+08</td>\n",
              "      <td>7.854116e+08</td>\n",
              "    </tr>\n",
              "  </tbody>\n",
              "</table>\n",
              "</div>"
            ],
            "text/plain": [
              "       id    imdb_id  popularity  ...  release_year    budget_adj   revenue_adj\n",
              "0  135397  tt0369610   32.985763  ...          2015  1.379999e+08  1.392446e+09\n",
              "1   76341  tt1392190   28.419936  ...          2015  1.379999e+08  3.481613e+08\n",
              "2  262500  tt2908446   13.112507  ...          2015  1.012000e+08  2.716190e+08\n",
              "3  140607  tt2488496   11.173104  ...          2015  1.839999e+08  1.902723e+09\n",
              "4  168259  tt2820852    9.335014  ...          2015  1.747999e+08  1.385749e+09\n",
              "5  281957  tt1663202    9.110700  ...          2015  1.241999e+08  4.903142e+08\n",
              "6   87101  tt1340138    8.654359  ...          2015  1.425999e+08  4.053551e+08\n",
              "7  286217  tt3659388    7.667400  ...          2015  9.935996e+07  5.477497e+08\n",
              "8  211672  tt2293640    7.404165  ...          2015  6.807997e+07  1.064192e+09\n",
              "9  150540  tt2096673    6.326804  ...          2015  1.609999e+08  7.854116e+08\n",
              "\n",
              "[10 rows x 21 columns]"
            ]
          },
          "metadata": {
            "tags": []
          },
          "execution_count": 547
        }
      ]
    },
    {
      "cell_type": "code",
      "metadata": {
        "id": "qpXIAFT65cw-",
        "colab": {
          "base_uri": "https://localhost:8080/",
          "height": 1138
        },
        "outputId": "8b26e32e-472b-42ff-af7b-f5e636eb1fe7"
      },
      "source": [
        "data = data[data['revenue'] > 10000]\n",
        "data = data.iloc[1:, :]\n",
        "print(\"RESHAPED Data Size :: \",data.shape)\n",
        "data.head(10)"
      ],
      "execution_count": null,
      "outputs": [
        {
          "output_type": "stream",
          "text": [
            "RESHAPED Data Size ::  (1274, 21)\n"
          ],
          "name": "stdout"
        },
        {
          "output_type": "execute_result",
          "data": {
            "text/html": [
              "<div>\n",
              "<style scoped>\n",
              "    .dataframe tbody tr th:only-of-type {\n",
              "        vertical-align: middle;\n",
              "    }\n",
              "\n",
              "    .dataframe tbody tr th {\n",
              "        vertical-align: top;\n",
              "    }\n",
              "\n",
              "    .dataframe thead th {\n",
              "        text-align: right;\n",
              "    }\n",
              "</style>\n",
              "<table border=\"1\" class=\"dataframe\">\n",
              "  <thead>\n",
              "    <tr style=\"text-align: right;\">\n",
              "      <th></th>\n",
              "      <th>id</th>\n",
              "      <th>imdb_id</th>\n",
              "      <th>popularity</th>\n",
              "      <th>budget</th>\n",
              "      <th>revenue</th>\n",
              "      <th>original_title</th>\n",
              "      <th>cast</th>\n",
              "      <th>homepage</th>\n",
              "      <th>director</th>\n",
              "      <th>tagline</th>\n",
              "      <th>keywords</th>\n",
              "      <th>overview</th>\n",
              "      <th>runtime</th>\n",
              "      <th>genres</th>\n",
              "      <th>production_companies</th>\n",
              "      <th>release_date</th>\n",
              "      <th>vote_count</th>\n",
              "      <th>vote_average</th>\n",
              "      <th>release_year</th>\n",
              "      <th>budget_adj</th>\n",
              "      <th>revenue_adj</th>\n",
              "    </tr>\n",
              "  </thead>\n",
              "  <tbody>\n",
              "    <tr>\n",
              "      <th>1</th>\n",
              "      <td>76341</td>\n",
              "      <td>tt1392190</td>\n",
              "      <td>28.419936</td>\n",
              "      <td>150000000</td>\n",
              "      <td>378436354</td>\n",
              "      <td>Mad Max: Fury Road</td>\n",
              "      <td>Tom Hardy|Charlize Theron|Hugh Keays-Byrne|Nic...</td>\n",
              "      <td>http://www.madmaxmovie.com/</td>\n",
              "      <td>George Miller</td>\n",
              "      <td>What a Lovely Day.</td>\n",
              "      <td>future|chase|post-apocalyptic|dystopia|australia</td>\n",
              "      <td>An apocalyptic story set in the furthest reach...</td>\n",
              "      <td>120</td>\n",
              "      <td>Action|Adventure|Science Fiction|Thriller</td>\n",
              "      <td>Village Roadshow Pictures|Kennedy Miller Produ...</td>\n",
              "      <td>5/13/15</td>\n",
              "      <td>6185</td>\n",
              "      <td>7.1</td>\n",
              "      <td>2015</td>\n",
              "      <td>1.379999e+08</td>\n",
              "      <td>3.481613e+08</td>\n",
              "    </tr>\n",
              "    <tr>\n",
              "      <th>2</th>\n",
              "      <td>262500</td>\n",
              "      <td>tt2908446</td>\n",
              "      <td>13.112507</td>\n",
              "      <td>110000000</td>\n",
              "      <td>295238201</td>\n",
              "      <td>Insurgent</td>\n",
              "      <td>Shailene Woodley|Theo James|Kate Winslet|Ansel...</td>\n",
              "      <td>http://www.thedivergentseries.movie/#insurgent</td>\n",
              "      <td>Robert Schwentke</td>\n",
              "      <td>One Choice Can Destroy You</td>\n",
              "      <td>based on novel|revolution|dystopia|sequel|dyst...</td>\n",
              "      <td>Beatrice Prior must confront her inner demons ...</td>\n",
              "      <td>119</td>\n",
              "      <td>Adventure|Science Fiction|Thriller</td>\n",
              "      <td>Summit Entertainment|Mandeville Films|Red Wago...</td>\n",
              "      <td>3/18/15</td>\n",
              "      <td>2480</td>\n",
              "      <td>6.3</td>\n",
              "      <td>2015</td>\n",
              "      <td>1.012000e+08</td>\n",
              "      <td>2.716190e+08</td>\n",
              "    </tr>\n",
              "    <tr>\n",
              "      <th>3</th>\n",
              "      <td>140607</td>\n",
              "      <td>tt2488496</td>\n",
              "      <td>11.173104</td>\n",
              "      <td>200000000</td>\n",
              "      <td>2068178225</td>\n",
              "      <td>Star Wars: The Force Awakens</td>\n",
              "      <td>Harrison Ford|Mark Hamill|Carrie Fisher|Adam D...</td>\n",
              "      <td>http://www.starwars.com/films/star-wars-episod...</td>\n",
              "      <td>J.J. Abrams</td>\n",
              "      <td>Every generation has a story.</td>\n",
              "      <td>android|spaceship|jedi|space opera|3d</td>\n",
              "      <td>Thirty years after defeating the Galactic Empi...</td>\n",
              "      <td>136</td>\n",
              "      <td>Action|Adventure|Science Fiction|Fantasy</td>\n",
              "      <td>Lucasfilm|Truenorth Productions|Bad Robot</td>\n",
              "      <td>12/15/15</td>\n",
              "      <td>5292</td>\n",
              "      <td>7.5</td>\n",
              "      <td>2015</td>\n",
              "      <td>1.839999e+08</td>\n",
              "      <td>1.902723e+09</td>\n",
              "    </tr>\n",
              "    <tr>\n",
              "      <th>4</th>\n",
              "      <td>168259</td>\n",
              "      <td>tt2820852</td>\n",
              "      <td>9.335014</td>\n",
              "      <td>190000000</td>\n",
              "      <td>1506249360</td>\n",
              "      <td>Furious 7</td>\n",
              "      <td>Vin Diesel|Paul Walker|Jason Statham|Michelle ...</td>\n",
              "      <td>http://www.furious7.com/</td>\n",
              "      <td>James Wan</td>\n",
              "      <td>Vengeance Hits Home</td>\n",
              "      <td>car race|speed|revenge|suspense|car</td>\n",
              "      <td>Deckard Shaw seeks revenge against Dominic Tor...</td>\n",
              "      <td>137</td>\n",
              "      <td>Action|Crime|Thriller</td>\n",
              "      <td>Universal Pictures|Original Film|Media Rights ...</td>\n",
              "      <td>2015-04-01 00:00:00</td>\n",
              "      <td>2947</td>\n",
              "      <td>7.3</td>\n",
              "      <td>2015</td>\n",
              "      <td>1.747999e+08</td>\n",
              "      <td>1.385749e+09</td>\n",
              "    </tr>\n",
              "    <tr>\n",
              "      <th>5</th>\n",
              "      <td>281957</td>\n",
              "      <td>tt1663202</td>\n",
              "      <td>9.110700</td>\n",
              "      <td>135000000</td>\n",
              "      <td>532950503</td>\n",
              "      <td>The Revenant</td>\n",
              "      <td>Leonardo DiCaprio|Tom Hardy|Will Poulter|Domhn...</td>\n",
              "      <td>http://www.foxmovies.com/movies/the-revenant</td>\n",
              "      <td>Alejandro González Iñárritu</td>\n",
              "      <td>(n. One who has returned, as if from the dead.)</td>\n",
              "      <td>father-son relationship|rape|based on novel|mo...</td>\n",
              "      <td>In the 1820s, a frontiersman, Hugh Glass, sets...</td>\n",
              "      <td>156</td>\n",
              "      <td>Western|Drama|Adventure|Thriller</td>\n",
              "      <td>Regency Enterprises|Appian Way|CatchPlay|Anony...</td>\n",
              "      <td>12/25/15</td>\n",
              "      <td>3929</td>\n",
              "      <td>7.2</td>\n",
              "      <td>2015</td>\n",
              "      <td>1.241999e+08</td>\n",
              "      <td>4.903142e+08</td>\n",
              "    </tr>\n",
              "    <tr>\n",
              "      <th>6</th>\n",
              "      <td>87101</td>\n",
              "      <td>tt1340138</td>\n",
              "      <td>8.654359</td>\n",
              "      <td>155000000</td>\n",
              "      <td>440603537</td>\n",
              "      <td>Terminator Genisys</td>\n",
              "      <td>Arnold Schwarzenegger|Jason Clarke|Emilia Clar...</td>\n",
              "      <td>http://www.terminatormovie.com/</td>\n",
              "      <td>Alan Taylor</td>\n",
              "      <td>Reset the future</td>\n",
              "      <td>saving the world|artificial intelligence|cybor...</td>\n",
              "      <td>The year is 2029. John Connor, leader of the r...</td>\n",
              "      <td>125</td>\n",
              "      <td>Science Fiction|Action|Thriller|Adventure</td>\n",
              "      <td>Paramount Pictures|Skydance Productions</td>\n",
              "      <td>6/23/15</td>\n",
              "      <td>2598</td>\n",
              "      <td>5.8</td>\n",
              "      <td>2015</td>\n",
              "      <td>1.425999e+08</td>\n",
              "      <td>4.053551e+08</td>\n",
              "    </tr>\n",
              "    <tr>\n",
              "      <th>7</th>\n",
              "      <td>286217</td>\n",
              "      <td>tt3659388</td>\n",
              "      <td>7.667400</td>\n",
              "      <td>108000000</td>\n",
              "      <td>595380321</td>\n",
              "      <td>The Martian</td>\n",
              "      <td>Matt Damon|Jessica Chastain|Kristen Wiig|Jeff ...</td>\n",
              "      <td>http://www.foxmovies.com/movies/the-martian</td>\n",
              "      <td>Ridley Scott</td>\n",
              "      <td>Bring Him Home</td>\n",
              "      <td>based on novel|mars|nasa|isolation|botanist</td>\n",
              "      <td>During a manned mission to Mars, Astronaut Mar...</td>\n",
              "      <td>141</td>\n",
              "      <td>Drama|Adventure|Science Fiction</td>\n",
              "      <td>Twentieth Century Fox Film Corporation|Scott F...</td>\n",
              "      <td>9/30/15</td>\n",
              "      <td>4572</td>\n",
              "      <td>7.6</td>\n",
              "      <td>2015</td>\n",
              "      <td>9.935996e+07</td>\n",
              "      <td>5.477497e+08</td>\n",
              "    </tr>\n",
              "    <tr>\n",
              "      <th>8</th>\n",
              "      <td>211672</td>\n",
              "      <td>tt2293640</td>\n",
              "      <td>7.404165</td>\n",
              "      <td>74000000</td>\n",
              "      <td>1156730962</td>\n",
              "      <td>Minions</td>\n",
              "      <td>Sandra Bullock|Jon Hamm|Michael Keaton|Allison...</td>\n",
              "      <td>http://www.minionsmovie.com/</td>\n",
              "      <td>Kyle Balda|Pierre Coffin</td>\n",
              "      <td>Before Gru, they had a history of bad bosses</td>\n",
              "      <td>assistant|aftercreditsstinger|duringcreditssti...</td>\n",
              "      <td>Minions Stuart, Kevin and Bob are recruited by...</td>\n",
              "      <td>91</td>\n",
              "      <td>Family|Animation|Adventure|Comedy</td>\n",
              "      <td>Universal Pictures|Illumination Entertainment</td>\n",
              "      <td>6/17/15</td>\n",
              "      <td>2893</td>\n",
              "      <td>6.5</td>\n",
              "      <td>2015</td>\n",
              "      <td>6.807997e+07</td>\n",
              "      <td>1.064192e+09</td>\n",
              "    </tr>\n",
              "    <tr>\n",
              "      <th>9</th>\n",
              "      <td>150540</td>\n",
              "      <td>tt2096673</td>\n",
              "      <td>6.326804</td>\n",
              "      <td>175000000</td>\n",
              "      <td>853708609</td>\n",
              "      <td>Inside Out</td>\n",
              "      <td>Amy Poehler|Phyllis Smith|Richard Kind|Bill Ha...</td>\n",
              "      <td>http://movies.disney.com/inside-out</td>\n",
              "      <td>Pete Docter</td>\n",
              "      <td>Meet the little voices inside your head.</td>\n",
              "      <td>dream|cartoon|imaginary friend|animation|kid</td>\n",
              "      <td>Growing up can be a bumpy road, and it's no ex...</td>\n",
              "      <td>94</td>\n",
              "      <td>Comedy|Animation|Family</td>\n",
              "      <td>Walt Disney Pictures|Pixar Animation Studios|W...</td>\n",
              "      <td>2015-06-09 00:00:00</td>\n",
              "      <td>3935</td>\n",
              "      <td>8.0</td>\n",
              "      <td>2015</td>\n",
              "      <td>1.609999e+08</td>\n",
              "      <td>7.854116e+08</td>\n",
              "    </tr>\n",
              "    <tr>\n",
              "      <th>10</th>\n",
              "      <td>206647</td>\n",
              "      <td>tt2379713</td>\n",
              "      <td>6.200282</td>\n",
              "      <td>245000000</td>\n",
              "      <td>880674609</td>\n",
              "      <td>Spectre</td>\n",
              "      <td>Daniel Craig|Christoph Waltz|Léa Seydoux|Ralph...</td>\n",
              "      <td>http://www.sonypictures.com/movies/spectre/</td>\n",
              "      <td>Sam Mendes</td>\n",
              "      <td>A Plan No One Escapes</td>\n",
              "      <td>spy|based on novel|secret agent|sequel|james bond</td>\n",
              "      <td>A cryptic message from Bond’s past sends him o...</td>\n",
              "      <td>148</td>\n",
              "      <td>Action|Adventure|Crime</td>\n",
              "      <td>Columbia Pictures|Danjaq|B24</td>\n",
              "      <td>10/26/15</td>\n",
              "      <td>3254</td>\n",
              "      <td>6.2</td>\n",
              "      <td>2015</td>\n",
              "      <td>2.253999e+08</td>\n",
              "      <td>8.102203e+08</td>\n",
              "    </tr>\n",
              "  </tbody>\n",
              "</table>\n",
              "</div>"
            ],
            "text/plain": [
              "        id    imdb_id  popularity  ...  release_year    budget_adj   revenue_adj\n",
              "1    76341  tt1392190   28.419936  ...          2015  1.379999e+08  3.481613e+08\n",
              "2   262500  tt2908446   13.112507  ...          2015  1.012000e+08  2.716190e+08\n",
              "3   140607  tt2488496   11.173104  ...          2015  1.839999e+08  1.902723e+09\n",
              "4   168259  tt2820852    9.335014  ...          2015  1.747999e+08  1.385749e+09\n",
              "5   281957  tt1663202    9.110700  ...          2015  1.241999e+08  4.903142e+08\n",
              "6    87101  tt1340138    8.654359  ...          2015  1.425999e+08  4.053551e+08\n",
              "7   286217  tt3659388    7.667400  ...          2015  9.935996e+07  5.477497e+08\n",
              "8   211672  tt2293640    7.404165  ...          2015  6.807997e+07  1.064192e+09\n",
              "9   150540  tt2096673    6.326804  ...          2015  1.609999e+08  7.854116e+08\n",
              "10  206647  tt2379713    6.200282  ...          2015  2.253999e+08  8.102203e+08\n",
              "\n",
              "[10 rows x 21 columns]"
            ]
          },
          "metadata": {
            "tags": []
          },
          "execution_count": 548
        }
      ]
    },
    {
      "cell_type": "markdown",
      "metadata": {
        "id": "eEugH7jmdPch"
      },
      "source": [
        "#QUESTIONS"
      ]
    },
    {
      "cell_type": "markdown",
      "metadata": {
        "id": "KW_-fInUdRgF"
      },
      "source": [
        "##1) Which are the movies with the third lowest and third highest budget?"
      ]
    },
    {
      "cell_type": "code",
      "metadata": {
        "id": "sT4F5vT2i9wx",
        "colab": {
          "base_uri": "https://localhost:8080/",
          "height": 35
        },
        "outputId": "a7b1650d-f0dd-465a-8430-f796413de61f"
      },
      "source": [
        "\"\"\"data = data[data['budget'] > 20000]\n",
        "print(\"RESHAPED Data Size :: \", data.shape)\"\"\""
      ],
      "execution_count": null,
      "outputs": [
        {
          "output_type": "execute_result",
          "data": {
            "application/vnd.google.colaboratory.intrinsic+json": {
              "type": "string"
            },
            "text/plain": [
              "'data = data[data[\\'budget\\'] > 20000]\\nprint(\"RESHAPED Data Size :: \", data.shape)'"
            ]
          },
          "metadata": {
            "tags": []
          },
          "execution_count": 549
        }
      ]
    },
    {
      "cell_type": "code",
      "metadata": {
        "id": "UC7gy8OhXQ-C"
      },
      "source": [
        "Budget = data.sort_values(by = ['budget'])\n",
        "#Budget.head(30)"
      ],
      "execution_count": null,
      "outputs": []
    },
    {
      "cell_type": "markdown",
      "metadata": {
        "id": "IQhj7hdVoKnF"
      },
      "source": [
        ">After SORTING the Data by Budget, it was found that all the \"budget\" values < 20000 are wrong entries thus, are removed. (Reference for budget comparision was made using GOOGLE)"
      ]
    },
    {
      "cell_type": "markdown",
      "metadata": {
        "id": "v2TCCeTVTule"
      },
      "source": [
        "> ### ANSWER"
      ]
    },
    {
      "cell_type": "markdown",
      "metadata": {
        "id": "cQZPM0eqph_j"
      },
      "source": [
        "###THIRD LOWEST"
      ]
    },
    {
      "cell_type": "code",
      "metadata": {
        "id": "jK2dugbhpAeY"
      },
      "source": [
        "#list(Budget['budget'])[:10] #[25000, 27000, 30000, 30000, 45202, 50000, 60000, 60000, 65000, 100000]"
      ],
      "execution_count": null,
      "outputs": []
    },
    {
      "cell_type": "code",
      "metadata": {
        "id": "3WoENOgqewHE",
        "colab": {
          "base_uri": "https://localhost:8080/",
          "height": 35
        },
        "outputId": "dc8ad563-d1fd-4571-9067-272fe5933f45"
      },
      "source": [
        "\"The movie with third lowest budget :: {} :: is :: {}\".format(list(Budget['budget'])[2], Budget['original_title'][2])"
      ],
      "execution_count": null,
      "outputs": [
        {
          "output_type": "execute_result",
          "data": {
            "application/vnd.google.colaboratory.intrinsic+json": {
              "type": "string"
            },
            "text/plain": [
              "'The movie with third lowest budget :: 30000 :: is :: Insurgent'"
            ]
          },
          "metadata": {
            "tags": []
          },
          "execution_count": 552
        }
      ]
    },
    {
      "cell_type": "markdown",
      "metadata": {
        "id": "7emvsjilplqo"
      },
      "source": [
        "###THIRD HIGHEST "
      ]
    },
    {
      "cell_type": "code",
      "metadata": {
        "id": "eXfyiBCupZNC",
        "colab": {
          "base_uri": "https://localhost:8080/",
          "height": 191
        },
        "outputId": "faf4ea82-a42c-459a-a020-c843ff7161c6"
      },
      "source": [
        "list(Budget['budget'])[-10:]"
      ],
      "execution_count": null,
      "outputs": [
        {
          "output_type": "execute_result",
          "data": {
            "text/plain": [
              "[250000000,\n",
              " 250000000,\n",
              " 255000000,\n",
              " 258000000,\n",
              " 260000000,\n",
              " 260000000,\n",
              " 280000000,\n",
              " 300000000,\n",
              " 380000000,\n",
              " 425000000]"
            ]
          },
          "metadata": {
            "tags": []
          },
          "execution_count": 553
        }
      ]
    },
    {
      "cell_type": "code",
      "metadata": {
        "id": "4PeXO2P_grVz",
        "colab": {
          "base_uri": "https://localhost:8080/",
          "height": 35
        },
        "outputId": "b6fb4505-6626-48de-e2f2-90cdf07c0b62"
      },
      "source": [
        "\"The movie with third highest budget :: {} :: is :: {}\".format(list(Budget['budget'])[-3], list(Budget['original_title'])[-3])"
      ],
      "execution_count": null,
      "outputs": [
        {
          "output_type": "execute_result",
          "data": {
            "application/vnd.google.colaboratory.intrinsic+json": {
              "type": "string"
            },
            "text/plain": [
              "\"The movie with third highest budget :: 300000000 :: is :: Pirates of the Caribbean: At World's End\""
            ]
          },
          "metadata": {
            "tags": []
          },
          "execution_count": 554
        }
      ]
    },
    {
      "cell_type": "markdown",
      "metadata": {
        "id": "oKYcBfvLdZMY"
      },
      "source": [
        "##2) What is the average number of words in movie titles between the year 2000-2005?"
      ]
    },
    {
      "cell_type": "code",
      "metadata": {
        "id": "T6V6YxYyqJC0"
      },
      "source": [
        "count = 0\n",
        "for i in data[data.release_year.apply(lambda x: 2000<=x<=2005)].original_title:\n",
        "  #print(i, len(i))\n",
        "  count += len(i)"
      ],
      "execution_count": null,
      "outputs": []
    },
    {
      "cell_type": "markdown",
      "metadata": {
        "id": "uHJggeA9SaqG"
      },
      "source": [
        "> ### ANSWER"
      ]
    },
    {
      "cell_type": "code",
      "metadata": {
        "id": "kpBF-7g0ScRc",
        "colab": {
          "base_uri": "https://localhost:8080/",
          "height": 35
        },
        "outputId": "09c16690-afdf-4e7f-e8f4-4981ddb741d8"
      },
      "source": [
        "print(\"The average number of words in movie titles between the year 2000-2005 is {}\".format(count/len(data[data.release_year.apply(lambda x: 2000<=x<=2005)])))"
      ],
      "execution_count": null,
      "outputs": [
        {
          "output_type": "stream",
          "text": [
            "The average number of words in movie titles between the year 2000-2005 is 15.42134831460674\n"
          ],
          "name": "stdout"
        }
      ]
    },
    {
      "cell_type": "code",
      "metadata": {
        "id": "CU3yEX50Wgv6"
      },
      "source": [
        ""
      ],
      "execution_count": null,
      "outputs": []
    },
    {
      "cell_type": "markdown",
      "metadata": {
        "id": "rMHUxN_P2a-2"
      },
      "source": [
        "##3) What is the most common Genre for Vin Diesel & Emma Watson movies?"
      ]
    },
    {
      "cell_type": "markdown",
      "metadata": {
        "id": "YFymQ3SXR-pX"
      },
      "source": [
        "> ### Genre of Vin Diesel Movies"
      ]
    },
    {
      "cell_type": "code",
      "metadata": {
        "id": "vHuh6694D1yh"
      },
      "source": [
        "Genre1 = {}\n",
        "count = 0\n",
        "for i in range(len(data)):\n",
        "  try: \n",
        "    if (data.cast[i].find('Vin Diesel') != -1):\n",
        "      for k in data.genres[i].split(\"|\"):\n",
        "        if k not in Genre1.keys():\n",
        "          count+=1\n",
        "          Genre1[k] = count\n",
        "  except:\n",
        "    continue"
      ],
      "execution_count": null,
      "outputs": []
    },
    {
      "cell_type": "code",
      "metadata": {
        "id": "ExfZrMxOKfXu"
      },
      "source": [
        "import numpy as np"
      ],
      "execution_count": null,
      "outputs": []
    },
    {
      "cell_type": "code",
      "metadata": {
        "id": "3oCqpLIZJX2u"
      },
      "source": [
        "#Genre1 = pd.DataFrame(Genre1, np.arange(len(Genre1)))\n",
        "#Genre1 = Genre1.iloc[0,:]\n",
        "#Genre1"
      ],
      "execution_count": null,
      "outputs": []
    },
    {
      "cell_type": "code",
      "metadata": {
        "id": "4a2aQEzbNAd-",
        "colab": {
          "base_uri": "https://localhost:8080/",
          "height": 191
        },
        "outputId": "7b714299-0609-4780-d74f-ac09f670049d"
      },
      "source": [
        "Genre1 = sorted(Genre1.items(), key = lambda kv:(kv[1], kv[0]))\n",
        "Genre1"
      ],
      "execution_count": null,
      "outputs": [
        {
          "output_type": "execute_result",
          "data": {
            "text/plain": [
              "[('Action', 1),\n",
              " ('Crime', 2),\n",
              " ('Thriller', 3),\n",
              " ('Fantasy', 4),\n",
              " ('Adventure', 5),\n",
              " ('Science Fiction', 6),\n",
              " ('Drama', 7),\n",
              " ('Animation', 8),\n",
              " ('Family', 9),\n",
              " ('Comedy', 10)]"
            ]
          },
          "metadata": {
            "tags": []
          },
          "execution_count": 575
        }
      ]
    },
    {
      "cell_type": "markdown",
      "metadata": {
        "id": "yDgTnJRYR4CL"
      },
      "source": [
        "> ### Genre of Emma Watson Movies"
      ]
    },
    {
      "cell_type": "code",
      "metadata": {
        "id": "EtcwONUcJvZ5"
      },
      "source": [
        "Genre2 = {}\n",
        "count = 0\n",
        "for i in range(len(data)):\n",
        "  try: \n",
        "    if (data.cast[i].find('Emma Watson') != -1):\n",
        "      for k in data.genres[i].split(\"|\"):\n",
        "        if k not in Genre2.keys():\n",
        "          count+=1\n",
        "          Genre2[k] = count\n",
        "  except:\n",
        "    continue"
      ],
      "execution_count": null,
      "outputs": []
    },
    {
      "cell_type": "code",
      "metadata": {
        "id": "WIK8vXJbJ3-X"
      },
      "source": [
        "#Genre2 = pd.DataFrame(Genre2, np.arange(len(Genre2)))\n",
        "#Genre2 = Genre2.iloc[0,:]\n",
        "#Genre2"
      ],
      "execution_count": null,
      "outputs": []
    },
    {
      "cell_type": "code",
      "metadata": {
        "id": "Cx_hUuAkIF6x",
        "colab": {
          "base_uri": "https://localhost:8080/",
          "height": 208
        },
        "outputId": "06e7214b-796e-45fb-84bd-e76aa4ff774a"
      },
      "source": [
        "Genre2 = sorted(Genre2.items(), key = lambda kv:(kv[1], kv[0]))\n",
        "Genre2"
      ],
      "execution_count": null,
      "outputs": [
        {
          "output_type": "execute_result",
          "data": {
            "text/plain": [
              "[('Horror', 1),\n",
              " ('Mystery', 2),\n",
              " ('Thriller', 3),\n",
              " ('Drama', 4),\n",
              " ('Adventure', 5),\n",
              " ('Fantasy', 6),\n",
              " ('Family', 7),\n",
              " ('Animation', 8),\n",
              " ('Comedy', 9),\n",
              " ('Romance', 10),\n",
              " ('Crime', 11)]"
            ]
          },
          "metadata": {
            "tags": []
          },
          "execution_count": 578
        }
      ]
    },
    {
      "cell_type": "markdown",
      "metadata": {
        "id": "N7jjpovzSTHs"
      },
      "source": [
        "> ### ANSWER"
      ]
    },
    {
      "cell_type": "code",
      "metadata": {
        "id": "nOYIJB3cUFPk",
        "colab": {
          "base_uri": "https://localhost:8080/",
          "height": 35
        },
        "outputId": "488e7b72-e46c-499d-c897-2501f1ab3fa9"
      },
      "source": [
        "sorted(set(Genre1).intersection(set(Genre2)), key = lambda kv:(kv[1], kv[0]))[-1][0]"
      ],
      "execution_count": null,
      "outputs": [
        {
          "output_type": "execute_result",
          "data": {
            "application/vnd.google.colaboratory.intrinsic+json": {
              "type": "string"
            },
            "text/plain": [
              "'Animation'"
            ]
          },
          "metadata": {
            "tags": []
          },
          "execution_count": 583
        }
      ]
    },
    {
      "cell_type": "code",
      "metadata": {
        "id": "lu5rFRrjQNWU",
        "colab": {
          "base_uri": "https://localhost:8080/",
          "height": 35
        },
        "outputId": "ca50b776-6fcc-44b5-8d1b-d892ccede718"
      },
      "source": [
        "print(\"The most common Genre for Vin Diesel & Emma Watson movies is :: {}\".format(sorted(set(Genre1).intersection(set(Genre2)), key = lambda kv:(kv[1], kv[0]))[-1][0]))"
      ],
      "execution_count": null,
      "outputs": [
        {
          "output_type": "stream",
          "text": [
            "The most common Genre for Vin Diesel & Emma Watson movies is :: Animation\n"
          ],
          "name": "stdout"
        }
      ]
    },
    {
      "cell_type": "markdown",
      "metadata": {
        "id": "4ju6RvvrrywO"
      },
      "source": [
        "##4) Which are the movies with most and least earned revenue?"
      ]
    },
    {
      "cell_type": "code",
      "metadata": {
        "id": "yZ6SLucir-eJ",
        "colab": {
          "base_uri": "https://localhost:8080/",
          "height": 35
        },
        "outputId": "47f08109-eef4-49f4-a41a-2ae4dcf95bb9"
      },
      "source": [
        "\"\"\"data = data[['revenue'] > 0]\n",
        "data = data.iloc[1:, :]\n",
        "data.shape\"\"\""
      ],
      "execution_count": null,
      "outputs": [
        {
          "output_type": "execute_result",
          "data": {
            "application/vnd.google.colaboratory.intrinsic+json": {
              "type": "string"
            },
            "text/plain": [
              "\"data = data[['revenue'] > 0]\\ndata = data.iloc[1:, :]\\ndata.shape\""
            ]
          },
          "metadata": {
            "tags": []
          },
          "execution_count": 585
        }
      ]
    },
    {
      "cell_type": "code",
      "metadata": {
        "id": "Ks20sSQQr-eB",
        "colab": {
          "base_uri": "https://localhost:8080/",
          "height": 621
        },
        "outputId": "a4342c96-ecf8-4843-ed90-bd7ce93fbbc3"
      },
      "source": [
        "Revenue = data.sort_values(by = ['revenue'])\n",
        "print(Revenue.shape)\n",
        "Revenue.head()"
      ],
      "execution_count": null,
      "outputs": [
        {
          "output_type": "stream",
          "text": [
            "(10866, 21)\n"
          ],
          "name": "stdout"
        },
        {
          "output_type": "execute_result",
          "data": {
            "text/html": [
              "<div>\n",
              "<style scoped>\n",
              "    .dataframe tbody tr th:only-of-type {\n",
              "        vertical-align: middle;\n",
              "    }\n",
              "\n",
              "    .dataframe tbody tr th {\n",
              "        vertical-align: top;\n",
              "    }\n",
              "\n",
              "    .dataframe thead th {\n",
              "        text-align: right;\n",
              "    }\n",
              "</style>\n",
              "<table border=\"1\" class=\"dataframe\">\n",
              "  <thead>\n",
              "    <tr style=\"text-align: right;\">\n",
              "      <th></th>\n",
              "      <th>id</th>\n",
              "      <th>imdb_id</th>\n",
              "      <th>popularity</th>\n",
              "      <th>budget</th>\n",
              "      <th>revenue</th>\n",
              "      <th>original_title</th>\n",
              "      <th>cast</th>\n",
              "      <th>homepage</th>\n",
              "      <th>director</th>\n",
              "      <th>tagline</th>\n",
              "      <th>keywords</th>\n",
              "      <th>overview</th>\n",
              "      <th>runtime</th>\n",
              "      <th>genres</th>\n",
              "      <th>production_companies</th>\n",
              "      <th>release_date</th>\n",
              "      <th>vote_count</th>\n",
              "      <th>vote_average</th>\n",
              "      <th>release_year</th>\n",
              "      <th>budget_adj</th>\n",
              "      <th>revenue_adj</th>\n",
              "    </tr>\n",
              "  </thead>\n",
              "  <tbody>\n",
              "    <tr>\n",
              "      <th>10865</th>\n",
              "      <td>22293</td>\n",
              "      <td>tt0060666</td>\n",
              "      <td>0.035919</td>\n",
              "      <td>19000</td>\n",
              "      <td>0</td>\n",
              "      <td>Manos: The Hands of Fate</td>\n",
              "      <td>Harold P. Warren|Tom Neyman|John Reynolds|Dian...</td>\n",
              "      <td>NaN</td>\n",
              "      <td>Harold P. Warren</td>\n",
              "      <td>It's Shocking! It's Beyond Your Imagination!</td>\n",
              "      <td>fire|gun|drive|sacrifice|flashlight</td>\n",
              "      <td>A family gets lost on the road and stumbles up...</td>\n",
              "      <td>74</td>\n",
              "      <td>Horror</td>\n",
              "      <td>Norm-Iris</td>\n",
              "      <td>11/15/66</td>\n",
              "      <td>15</td>\n",
              "      <td>1.5</td>\n",
              "      <td>1966</td>\n",
              "      <td>1.276423e+05</td>\n",
              "      <td>0.0</td>\n",
              "    </tr>\n",
              "    <tr>\n",
              "      <th>4553</th>\n",
              "      <td>113594</td>\n",
              "      <td>tt2288005</td>\n",
              "      <td>0.495457</td>\n",
              "      <td>0</td>\n",
              "      <td>0</td>\n",
              "      <td>A Turtle’s Tale 2: Sammy’s Escape From Paradise</td>\n",
              "      <td>Kaitlyn Maher|Carter Hastings|Alan Shearman|Kh...</td>\n",
              "      <td>NaN</td>\n",
              "      <td>Ben Stassen|Vincent Kesteloot</td>\n",
              "      <td>NaN</td>\n",
              "      <td>NaN</td>\n",
              "      <td>Sammy and Ray, leatherback turtles and friends...</td>\n",
              "      <td>92</td>\n",
              "      <td>Animation|Adventure</td>\n",
              "      <td>Studio Canal|Warner Bros.|uFilm|nWave Pictures</td>\n",
              "      <td>8/15/12</td>\n",
              "      <td>40</td>\n",
              "      <td>5.7</td>\n",
              "      <td>2012</td>\n",
              "      <td>0.000000e+00</td>\n",
              "      <td>0.0</td>\n",
              "    </tr>\n",
              "    <tr>\n",
              "      <th>4552</th>\n",
              "      <td>101179</td>\n",
              "      <td>tt1838722</td>\n",
              "      <td>0.505292</td>\n",
              "      <td>0</td>\n",
              "      <td>0</td>\n",
              "      <td>Truth or Dare</td>\n",
              "      <td>Liam Boyle|Jack Gordon|Florence Hall|David Oak...</td>\n",
              "      <td>http://www.truthordarefilm.com/</td>\n",
              "      <td>Robert Heath</td>\n",
              "      <td>Truth or Die</td>\n",
              "      <td>NaN</td>\n",
              "      <td>A group of college friends celebrate the end o...</td>\n",
              "      <td>95</td>\n",
              "      <td>Horror|Thriller|Mystery</td>\n",
              "      <td>Corona Pictures</td>\n",
              "      <td>2012-08-05 00:00:00</td>\n",
              "      <td>57</td>\n",
              "      <td>5.6</td>\n",
              "      <td>2012</td>\n",
              "      <td>0.000000e+00</td>\n",
              "      <td>0.0</td>\n",
              "    </tr>\n",
              "    <tr>\n",
              "      <th>4551</th>\n",
              "      <td>110160</td>\n",
              "      <td>tt1650048</td>\n",
              "      <td>0.516461</td>\n",
              "      <td>9500000</td>\n",
              "      <td>0</td>\n",
              "      <td>Laurence Anyways</td>\n",
              "      <td>Melvil Poupaud|Suzanne Clément|Nathalie Baye|M...</td>\n",
              "      <td>NaN</td>\n",
              "      <td>Xavier Dolan</td>\n",
              "      <td>NaN</td>\n",
              "      <td>homosexuality|transgender|family|lgbt|drag</td>\n",
              "      <td>Set in the 1980s and 1990s, a man tries to sal...</td>\n",
              "      <td>168</td>\n",
              "      <td>Drama|Romance</td>\n",
              "      <td>MK2 Productions</td>\n",
              "      <td>5/18/12</td>\n",
              "      <td>84</td>\n",
              "      <td>7.5</td>\n",
              "      <td>2012</td>\n",
              "      <td>9.022571e+06</td>\n",
              "      <td>0.0</td>\n",
              "    </tr>\n",
              "    <tr>\n",
              "      <th>4549</th>\n",
              "      <td>119360</td>\n",
              "      <td>tt1801061</td>\n",
              "      <td>0.518686</td>\n",
              "      <td>0</td>\n",
              "      <td>0</td>\n",
              "      <td>Io e te</td>\n",
              "      <td>Jacopo Olmo Antinori|Tea Falco|Sonia Bergamasc...</td>\n",
              "      <td>NaN</td>\n",
              "      <td>Bernardo Bertolucci</td>\n",
              "      <td>NaN</td>\n",
              "      <td>NaN</td>\n",
              "      <td>An introverted teenager tells his parents he i...</td>\n",
              "      <td>103</td>\n",
              "      <td>Drama</td>\n",
              "      <td>Medusa Film|Fiction Films|Wildside|Ministero p...</td>\n",
              "      <td>9/18/12</td>\n",
              "      <td>23</td>\n",
              "      <td>5.6</td>\n",
              "      <td>2012</td>\n",
              "      <td>0.000000e+00</td>\n",
              "      <td>0.0</td>\n",
              "    </tr>\n",
              "  </tbody>\n",
              "</table>\n",
              "</div>"
            ],
            "text/plain": [
              "           id    imdb_id  popularity  ...  release_year    budget_adj revenue_adj\n",
              "10865   22293  tt0060666    0.035919  ...          1966  1.276423e+05         0.0\n",
              "4553   113594  tt2288005    0.495457  ...          2012  0.000000e+00         0.0\n",
              "4552   101179  tt1838722    0.505292  ...          2012  0.000000e+00         0.0\n",
              "4551   110160  tt1650048    0.516461  ...          2012  9.022571e+06         0.0\n",
              "4549   119360  tt1801061    0.518686  ...          2012  0.000000e+00         0.0\n",
              "\n",
              "[5 rows x 21 columns]"
            ]
          },
          "metadata": {
            "tags": []
          },
          "execution_count": 586
        }
      ]
    },
    {
      "cell_type": "markdown",
      "metadata": {
        "id": "tJI4l59_Tk7O"
      },
      "source": [
        "> ### ANSWER"
      ]
    },
    {
      "cell_type": "markdown",
      "metadata": {
        "id": "F0TE6t8_yqYS"
      },
      "source": [
        "###LOWEST REVENUE"
      ]
    },
    {
      "cell_type": "code",
      "metadata": {
        "id": "Tdk8305qwyMN",
        "colab": {
          "base_uri": "https://localhost:8080/",
          "height": 35
        },
        "outputId": "555eaf9d-b913-4631-9813-1fb1ec7bb437"
      },
      "source": [
        "print(\"The movie with lowest revenue :: {} USD :: is :: {}\".format(list(Revenue['revenue'])[0], list(Revenue['original_title'])[0]))"
      ],
      "execution_count": null,
      "outputs": [
        {
          "output_type": "stream",
          "text": [
            "The movie with lowest revenue :: 0 USD :: is :: Manos: The Hands of Fate\n"
          ],
          "name": "stdout"
        }
      ]
    },
    {
      "cell_type": "markdown",
      "metadata": {
        "id": "w1sE93ATyvQ3"
      },
      "source": [
        "###HIGHEST REVENUE"
      ]
    },
    {
      "cell_type": "code",
      "metadata": {
        "id": "k-Xk3okzwzPS",
        "colab": {
          "base_uri": "https://localhost:8080/",
          "height": 35
        },
        "outputId": "f2264f1e-89f0-4ea3-d55a-962880b62bf3"
      },
      "source": [
        "print(\"The movie with highest revenue :: {} :: is :: {}\".format(list(Revenue['revenue'])[-1], list(Revenue['original_title'])[-1]))"
      ],
      "execution_count": null,
      "outputs": [
        {
          "output_type": "stream",
          "text": [
            "The movie with highest revenue :: 2781505847 :: is :: Avatar\n"
          ],
          "name": "stdout"
        }
      ]
    },
    {
      "cell_type": "markdown",
      "metadata": {
        "id": "TXZFqtwmSmTV"
      },
      "source": [
        "##5) What is the average runtime of movies in the year 2006?"
      ]
    },
    {
      "cell_type": "markdown",
      "metadata": {
        "id": "bpnbO4JzTZtN"
      },
      "source": [
        "> ### ANSWER"
      ]
    },
    {
      "cell_type": "code",
      "metadata": {
        "id": "AExaAZQpSu_L",
        "colab": {
          "base_uri": "https://localhost:8080/",
          "height": 35
        },
        "outputId": "36febe05-0beb-48d4-b13b-6e8c50e2c3a7"
      },
      "source": [
        "data[data.release_year.apply(lambda x: x==2006)].runtime.mean()\n"
      ],
      "execution_count": null,
      "outputs": [
        {
          "output_type": "execute_result",
          "data": {
            "text/plain": [
              "111.95588235294117"
            ]
          },
          "metadata": {
            "tags": []
          },
          "execution_count": 569
        }
      ]
    },
    {
      "cell_type": "markdown",
      "metadata": {
        "id": "AzHHNMYVzGxn"
      },
      "source": [
        "##6) Name any 3 production companies which have invested money in worse revenue movies?"
      ]
    },
    {
      "cell_type": "markdown",
      "metadata": {
        "id": "GKqG9JQPTeIY"
      },
      "source": [
        "> ### ANSWER"
      ]
    },
    {
      "cell_type": "code",
      "metadata": {
        "id": "9P529jLQzjb6",
        "colab": {
          "base_uri": "https://localhost:8080/",
          "height": 69
        },
        "outputId": "3f878e6f-5ed4-4f37-c49e-dbdeb9d6ad63"
      },
      "source": [
        "print(\"The production companies with worst revenue :: {} :: is :: {}\".format(list(Revenue['revenue'])[0], list(Revenue['production_companies'])[0]))\n",
        "print(\"The production companies with worst revenue :: {} :: is :: {}\".format(list(Revenue['revenue'])[1], list(Revenue['production_companies'])[1]))\n",
        "print(\"The production companies with worst revenue :: \" + str(list(Revenue['revenue'])[2]) + \" is \" + str(list(Revenue['production_companies'])[2].split('|')))"
      ],
      "execution_count": null,
      "outputs": [
        {
          "output_type": "stream",
          "text": [
            "The production companies with worst revenue :: 15071 :: is :: WhiteFlame Productions\n",
            "The production companies with worst revenue :: 18097 :: is :: Gato Negro Films\n",
            "The production companies with worst revenue :: 30471 is ['Franchise Pictures', 'Brood Syndicate', 'B.D.S. Productions Inc.']\n"
          ],
          "name": "stdout"
        }
      ]
    },
    {
      "cell_type": "code",
      "metadata": {
        "id": "nX9qVXY9VEHz"
      },
      "source": [
        ""
      ],
      "execution_count": null,
      "outputs": []
    }
  ]
}