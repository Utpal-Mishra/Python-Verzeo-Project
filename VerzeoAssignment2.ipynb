{
  "nbformat": 4,
  "nbformat_minor": 0,
  "metadata": {
    "colab": {
      "name": "VerzeoAssignment2.ipynb",
      "provenance": [],
      "collapsed_sections": [
        "ogT5GrWEzjEM",
        "QTxGJB6Hzwby",
        "s5SgGKBJzwto",
        "Ch_ycYRRzw4u",
        "K-WQYE66zxAu",
        "EDyjx1NpzxG9",
        "SDyQ-HuQzxgl",
        "qU6ogmO3zxZA",
        "MeJAngznzxVm",
        "NFNQtv6lzxRe",
        "iydbo6YB7kSx",
        "O_1aFReQ8baL",
        "lG7nxEHZ9CtA",
        "_osdENQc9T2U",
        "H726phRZ9jv5",
        "YyIM3eE5_47l",
        "vKJzevo6CNEx",
        "IAwXnypeCRG6",
        "6mdBJqjwCZip",
        "I28fO2qOCZ39",
        "0t9pHQOj2R1G"
      ],
      "authorship_tag": "ABX9TyO98r7gIWScYMtf63XyQhwd",
      "include_colab_link": true
    },
    "kernelspec": {
      "name": "python3",
      "display_name": "Python 3"
    }
  },
  "cells": [
    {
      "cell_type": "markdown",
      "metadata": {
        "id": "view-in-github",
        "colab_type": "text"
      },
      "source": [
        "<a href=\"https://colab.research.google.com/github/Utpal-Mishra/Python-Verzeo-Project/blob/main/VerzeoAssignment2.ipynb\" target=\"_parent\"><img src=\"https://colab.research.google.com/assets/colab-badge.svg\" alt=\"Open In Colab\"/></a>"
      ]
    },
    {
      "cell_type": "code",
      "metadata": {
        "id": "h-nYUuMQSbLR",
        "colab": {
          "base_uri": "https://localhost:8080/",
          "height": 153
        },
        "outputId": "8cd41a2a-52c2-4667-be72-451a5886ae8e"
      },
      "source": [
        "import pandas as pd\n",
        "Diamonds = pd.read_csv('https://raw.githubusercontent.com/mwaskom/seaborn-data/master/diamonds.csv')\n",
        "print(\"Diamond Dataset\",Diamonds.shape,\": \\n\")\n",
        "print(Diamonds.head())"
      ],
      "execution_count": null,
      "outputs": [
        {
          "output_type": "stream",
          "text": [
            "Diamond Dataset (53940, 10) : \n",
            "\n",
            "   carat      cut color clarity  depth  table  price     x     y     z\n",
            "0   0.23    Ideal     E     SI2   61.5   55.0    326  3.95  3.98  2.43\n",
            "1   0.21  Premium     E     SI1   59.8   61.0    326  3.89  3.84  2.31\n",
            "2   0.23     Good     E     VS1   56.9   65.0    327  4.05  4.07  2.31\n",
            "3   0.29  Premium     I     VS2   62.4   58.0    334  4.20  4.23  2.63\n",
            "4   0.31     Good     J     SI2   63.3   58.0    335  4.34  4.35  2.75\n"
          ],
          "name": "stdout"
        }
      ]
    },
    {
      "cell_type": "markdown",
      "metadata": {
        "id": "ogT5GrWEzjEM"
      },
      "source": [
        "#Problem 1\n",
        "Write a Pandas program to sort a Series by its values and index of diamonds\n",
        "DataFrame\n",
        "#Answer\n"
      ]
    },
    {
      "cell_type": "markdown",
      "metadata": {
        "id": "kP_WdSiOUPQB"
      },
      "source": [
        "Since the SORT BY FEATURE wasn't specified, the attribute \"PRICE\" is taken\n",
        "\n"
      ]
    },
    {
      "cell_type": "code",
      "metadata": {
        "id": "GqRLedfozrLi",
        "colab": {
          "base_uri": "https://localhost:8080/",
          "height": 306
        },
        "outputId": "e25adf74-34b9-4ff7-9191-4b407a50663b"
      },
      "source": [
        "print(\"\\nSERIES SORT by VALUES:\\n\")\n",
        "#Series.sort(axis=0, ascending=True, kind='quicksort', na_position='last', inplace=False)\n",
        "#Series.sort_values(self, axis=0, ascending=True, inplace=False, kind='quicksort', na_position='last', ignore_index=False)\n",
        "print(Diamonds.sort_values(by = ['price']))"
      ],
      "execution_count": null,
      "outputs": [
        {
          "output_type": "stream",
          "text": [
            "\n",
            "SERIES SORT by VALUES:\n",
            "\n",
            "       carat        cut color clarity  depth  table  price     x     y     z\n",
            "0       0.23      Ideal     E     SI2   61.5   55.0    326  3.95  3.98  2.43\n",
            "1       0.21    Premium     E     SI1   59.8   61.0    326  3.89  3.84  2.31\n",
            "2       0.23       Good     E     VS1   56.9   65.0    327  4.05  4.07  2.31\n",
            "3       0.29    Premium     I     VS2   62.4   58.0    334  4.20  4.23  2.63\n",
            "4       0.31       Good     J     SI2   63.3   58.0    335  4.34  4.35  2.75\n",
            "...      ...        ...   ...     ...    ...    ...    ...   ...   ...   ...\n",
            "27745   2.00  Very Good     H     SI1   62.8   57.0  18803  7.95  8.00  5.01\n",
            "27746   2.07      Ideal     G     SI2   62.5   55.0  18804  8.20  8.13  5.11\n",
            "27747   1.51      Ideal     G      IF   61.7   55.0  18806  7.37  7.41  4.56\n",
            "27748   2.00  Very Good     G     SI1   63.5   56.0  18818  7.90  7.97  5.04\n",
            "27749   2.29    Premium     I     VS2   60.8   60.0  18823  8.50  8.47  5.16\n",
            "\n",
            "[53940 rows x 10 columns]\n"
          ],
          "name": "stdout"
        }
      ]
    },
    {
      "cell_type": "code",
      "metadata": {
        "id": "snpoocbrT1lG",
        "colab": {
          "base_uri": "https://localhost:8080/",
          "height": 306
        },
        "outputId": "a8c8354d-b9dc-4602-d45a-5e45302ab000"
      },
      "source": [
        "print(\"\\nDATAFRAME SORT by INDEX:\\n\")\n",
        "#Diamonds.cut.value_counts().sort_values()\n",
        "print(Diamonds.sort_index())"
      ],
      "execution_count": null,
      "outputs": [
        {
          "output_type": "stream",
          "text": [
            "\n",
            "DATAFRAME SORT by INDEX:\n",
            "\n",
            "       carat        cut color clarity  depth  table  price     x     y     z\n",
            "0       0.23      Ideal     E     SI2   61.5   55.0    326  3.95  3.98  2.43\n",
            "1       0.21    Premium     E     SI1   59.8   61.0    326  3.89  3.84  2.31\n",
            "2       0.23       Good     E     VS1   56.9   65.0    327  4.05  4.07  2.31\n",
            "3       0.29    Premium     I     VS2   62.4   58.0    334  4.20  4.23  2.63\n",
            "4       0.31       Good     J     SI2   63.3   58.0    335  4.34  4.35  2.75\n",
            "...      ...        ...   ...     ...    ...    ...    ...   ...   ...   ...\n",
            "53935   0.72      Ideal     D     SI1   60.8   57.0   2757  5.75  5.76  3.50\n",
            "53936   0.72       Good     D     SI1   63.1   55.0   2757  5.69  5.75  3.61\n",
            "53937   0.70  Very Good     D     SI1   62.8   60.0   2757  5.66  5.68  3.56\n",
            "53938   0.86    Premium     H     SI2   61.0   58.0   2757  6.15  6.12  3.74\n",
            "53939   0.75      Ideal     D     SI2   62.2   55.0   2757  5.83  5.87  3.64\n",
            "\n",
            "[53940 rows x 10 columns]\n"
          ],
          "name": "stdout"
        }
      ]
    },
    {
      "cell_type": "markdown",
      "metadata": {
        "id": "QTxGJB6Hzwby"
      },
      "source": [
        "#Problem 2\n",
        "Write a Pandas program to calculate the multiply of length, width and depth for\n",
        "each cut of diamonds DataFrame\n",
        "#Answer\n"
      ]
    },
    {
      "cell_type": "markdown",
      "metadata": {
        "id": "_mXZx26yc9Nz"
      },
      "source": [
        "DIMENSIONS of Diamond"
      ]
    },
    {
      "cell_type": "code",
      "metadata": {
        "id": "1QluwpPq0fPX",
        "colab": {
          "base_uri": "https://localhost:8080/",
          "height": 221
        },
        "outputId": "14960544-2c8b-400a-de5d-4c93279735c4"
      },
      "source": [
        "print(Diamonds['x']*Diamonds['y']*Diamonds['z'].round(4))"
      ],
      "execution_count": null,
      "outputs": [
        {
          "output_type": "stream",
          "text": [
            "0         38.202030\n",
            "1         34.505856\n",
            "2         38.076885\n",
            "3         46.724580\n",
            "4         51.917250\n",
            "            ...    \n",
            "53935    115.920000\n",
            "53936    118.110175\n",
            "53937    114.449728\n",
            "53938    140.766120\n",
            "53939    124.568444\n",
            "Length: 53940, dtype: float64\n"
          ],
          "name": "stdout"
        }
      ]
    },
    {
      "cell_type": "markdown",
      "metadata": {
        "id": "s5SgGKBJzwto"
      },
      "source": [
        "#Problem 3\n",
        "Write a Pandas program to concatenate the diamonds DataFrame with the\n",
        "'color' Series\n",
        "#Answer\n"
      ]
    },
    {
      "cell_type": "markdown",
      "metadata": {
        "id": "E5K1gm4ZeKbG"
      },
      "source": [
        "DataFrame = pd.concat(DataFrame, pd.DataFrame(Series))\n",
        "\n",
        "*\"color\" attribute is already attached to the Diamonds Dataframe still the "
      ]
    },
    {
      "cell_type": "code",
      "metadata": {
        "id": "BDCXBCBo0eq0"
      },
      "source": [
        "#Concat = pd.concat(Diamonds, pd.DataFrame(color))"
      ],
      "execution_count": null,
      "outputs": []
    },
    {
      "cell_type": "markdown",
      "metadata": {
        "id": "Ch_ycYRRzw4u"
      },
      "source": [
        "#Problem 4\n",
        "Write a Pandas program to read specified rows and all columns of diamonds\n",
        "DataFrame\n",
        "#Answer\n"
      ]
    },
    {
      "cell_type": "code",
      "metadata": {
        "id": "ok3MCGHRjufN",
        "colab": {
          "base_uri": "https://localhost:8080/",
          "height": 221
        },
        "outputId": "de2b7d90-a8a6-4e9e-f8db-51812e858434"
      },
      "source": [
        "x = int(input(\"Enter a SPECIFIC ROW ::\\t\"))\n",
        "print(Diamonds.iloc[x,:])"
      ],
      "execution_count": null,
      "outputs": [
        {
          "output_type": "stream",
          "text": [
            "Enter a SPECIFIC ROW ::\t3\n",
            "carat         0.29\n",
            "cut        Premium\n",
            "color            I\n",
            "clarity        VS2\n",
            "depth         62.4\n",
            "table           58\n",
            "price          334\n",
            "x              4.2\n",
            "y             4.23\n",
            "z             2.63\n",
            "Name: 3, dtype: object\n"
          ],
          "name": "stdout"
        }
      ]
    },
    {
      "cell_type": "markdown",
      "metadata": {
        "id": "K-WQYE66zxAu"
      },
      "source": [
        "#Problem 5\n",
        "Write a Pandas program to read rows 0, 5, 7 and all columns of diamonds\n",
        "DataFrame\n",
        "#Answer\n"
      ]
    },
    {
      "cell_type": "code",
      "metadata": {
        "id": "KekPGNWK0ZX3",
        "colab": {
          "base_uri": "https://localhost:8080/",
          "height": 102
        },
        "outputId": "a549f652-fe0a-4a23-bfab-9bce2c877d54"
      },
      "source": [
        "x = [int(x) for x in input(\"Enter ROWS ::\\t\").split(\",\")] \n",
        "\n",
        "print(Diamonds.iloc[x,:])"
      ],
      "execution_count": null,
      "outputs": [
        {
          "output_type": "stream",
          "text": [
            "Enter ROWS ::\t0, 5, 7\n",
            "   carat        cut color clarity  depth  table  price     x     y     z\n",
            "0   0.23      Ideal     E     SI2   61.5   55.0    326  3.95  3.98  2.43\n",
            "5   0.24  Very Good     J    VVS2   62.8   57.0    336  3.94  3.96  2.48\n",
            "7   0.26  Very Good     H     SI1   61.9   55.0    337  4.07  4.11  2.53\n"
          ],
          "name": "stdout"
        }
      ]
    },
    {
      "cell_type": "markdown",
      "metadata": {
        "id": "EDyjx1NpzxG9"
      },
      "source": [
        "#Problem 6\n",
        "Write a Pandas program to read rows 2 through 5 and all columns of diamonds\n",
        "DataFrame\n",
        "#Answer\n"
      ]
    },
    {
      "cell_type": "code",
      "metadata": {
        "id": "kNGwV__z0ab0",
        "colab": {
          "base_uri": "https://localhost:8080/",
          "height": 119
        },
        "outputId": "f08786b0-d472-44b4-8a1e-0fadb3ac1205"
      },
      "source": [
        "x = int(input(\"FROM ::\\t\"))\n",
        "n = int(input(\"TO ::\\t\"))\n",
        "\n",
        "print(Diamonds.iloc[x:n,:])"
      ],
      "execution_count": null,
      "outputs": [
        {
          "output_type": "stream",
          "text": [
            "FROM ::\t2\n",
            "TO ::\t5\n",
            "   carat      cut color clarity  depth  table  price     x     y     z\n",
            "2   0.23     Good     E     VS1   56.9   65.0    327  4.05  4.07  2.31\n",
            "3   0.29  Premium     I     VS2   62.4   58.0    334  4.20  4.23  2.63\n",
            "4   0.31     Good     J     SI2   63.3   58.0    335  4.34  4.35  2.75\n"
          ],
          "name": "stdout"
        }
      ]
    },
    {
      "cell_type": "markdown",
      "metadata": {
        "id": "SDyQ-HuQzxgl"
      },
      "source": [
        "#Problem 7\n",
        "Write a Pandas program to read rows 0 through 2 (inclusive), columns 'color'\n",
        "and 'price' of diamonds DataFrame\n",
        "#Answer\n"
      ]
    },
    {
      "cell_type": "code",
      "metadata": {
        "id": "dF1i9oNlzxc9",
        "colab": {
          "base_uri": "https://localhost:8080/",
          "height": 102
        },
        "outputId": "fc1ee09c-a85e-4c37-d466-06c976f902dc"
      },
      "source": [
        "print(\"COLUMNS :: \", Diamonds.columns.values)\n",
        "\n",
        "x = int(input(\"\\nFROM ::\\t\"))\n",
        "n = int(input(\"TO ::\\t\")) + 1\n",
        "m = [str(i) for i in input(\"Enter ROWS ::\\t\").split(\",\")] "
      ],
      "execution_count": null,
      "outputs": [
        {
          "output_type": "stream",
          "text": [
            "COLUMNS ::  ['carat' 'cut' 'color' 'clarity' 'depth' 'table' 'price' 'x' 'y' 'z']\n",
            "\n",
            "FROM ::\t0\n",
            "TO ::\t2\n",
            "Enter ROWS ::\tcolor,price\n"
          ],
          "name": "stdout"
        }
      ]
    },
    {
      "cell_type": "code",
      "metadata": {
        "id": "RPpBXcIpq9Yk",
        "colab": {
          "base_uri": "https://localhost:8080/",
          "height": 142
        },
        "outputId": "e202f542-191a-46be-fd98-73e98517e331"
      },
      "source": [
        "Diamonds[m][x:n]"
      ],
      "execution_count": null,
      "outputs": [
        {
          "output_type": "execute_result",
          "data": {
            "text/html": [
              "<div>\n",
              "<style scoped>\n",
              "    .dataframe tbody tr th:only-of-type {\n",
              "        vertical-align: middle;\n",
              "    }\n",
              "\n",
              "    .dataframe tbody tr th {\n",
              "        vertical-align: top;\n",
              "    }\n",
              "\n",
              "    .dataframe thead th {\n",
              "        text-align: right;\n",
              "    }\n",
              "</style>\n",
              "<table border=\"1\" class=\"dataframe\">\n",
              "  <thead>\n",
              "    <tr style=\"text-align: right;\">\n",
              "      <th></th>\n",
              "      <th>color</th>\n",
              "      <th>price</th>\n",
              "    </tr>\n",
              "  </thead>\n",
              "  <tbody>\n",
              "    <tr>\n",
              "      <th>0</th>\n",
              "      <td>E</td>\n",
              "      <td>326</td>\n",
              "    </tr>\n",
              "    <tr>\n",
              "      <th>1</th>\n",
              "      <td>E</td>\n",
              "      <td>326</td>\n",
              "    </tr>\n",
              "    <tr>\n",
              "      <th>2</th>\n",
              "      <td>E</td>\n",
              "      <td>327</td>\n",
              "    </tr>\n",
              "  </tbody>\n",
              "</table>\n",
              "</div>"
            ],
            "text/plain": [
              "  color  price\n",
              "0     E    326\n",
              "1     E    326\n",
              "2     E    327"
            ]
          },
          "metadata": {
            "tags": []
          },
          "execution_count": 304
        }
      ]
    },
    {
      "cell_type": "markdown",
      "metadata": {
        "id": "qU6ogmO3zxZA"
      },
      "source": [
        "#Problem 8\n",
        "Write a Pandas program to read rows 0 through 2 (inclusive), columns 'color'\n",
        "through 'price' (inclusive) of diamonds DataFrame\n",
        "#Answer\n"
      ]
    },
    {
      "cell_type": "code",
      "metadata": {
        "id": "6jL42uKXzxZC",
        "colab": {
          "base_uri": "https://localhost:8080/",
          "height": 136
        },
        "outputId": "702ff0c8-b396-40aa-f522-045a1dda71b0"
      },
      "source": [
        "print(\"COLUMNS :: \", Diamonds.columns.values)\n",
        "\n",
        "x = int(input(\"\\nFROM ::\\t\"))\n",
        "z = int(input(\"TO   ::\\t\")) + 1\n",
        "m = Diamonds.columns.get_loc(input(\"\\nSTARTING Column :: \").strip())\n",
        "n = Diamonds.columns.get_loc(input(\"ENDING Column   :: \").strip()) + 1"
      ],
      "execution_count": null,
      "outputs": [
        {
          "output_type": "stream",
          "text": [
            "COLUMNS ::  ['carat' 'cut' 'color' 'clarity' 'depth' 'table' 'price' 'x' 'y' 'z']\n",
            "\n",
            "FROM ::\t0\n",
            "TO   ::\t2\n",
            "\n",
            "STARTING Column :: color\n",
            "ENDING Column   :: price\n"
          ],
          "name": "stdout"
        }
      ]
    },
    {
      "cell_type": "code",
      "metadata": {
        "id": "UygYbJL6qm37",
        "colab": {
          "base_uri": "https://localhost:8080/",
          "height": 419
        },
        "outputId": "5fc02a7a-0bf0-4137-e20b-66790770e5c4"
      },
      "source": [
        "Diamonds.iloc[:,m:n]"
      ],
      "execution_count": null,
      "outputs": [
        {
          "output_type": "execute_result",
          "data": {
            "text/html": [
              "<div>\n",
              "<style scoped>\n",
              "    .dataframe tbody tr th:only-of-type {\n",
              "        vertical-align: middle;\n",
              "    }\n",
              "\n",
              "    .dataframe tbody tr th {\n",
              "        vertical-align: top;\n",
              "    }\n",
              "\n",
              "    .dataframe thead th {\n",
              "        text-align: right;\n",
              "    }\n",
              "</style>\n",
              "<table border=\"1\" class=\"dataframe\">\n",
              "  <thead>\n",
              "    <tr style=\"text-align: right;\">\n",
              "      <th></th>\n",
              "      <th>color</th>\n",
              "      <th>clarity</th>\n",
              "      <th>depth</th>\n",
              "      <th>table</th>\n",
              "      <th>price</th>\n",
              "    </tr>\n",
              "  </thead>\n",
              "  <tbody>\n",
              "    <tr>\n",
              "      <th>0</th>\n",
              "      <td>E</td>\n",
              "      <td>SI2</td>\n",
              "      <td>61.5</td>\n",
              "      <td>55.0</td>\n",
              "      <td>326</td>\n",
              "    </tr>\n",
              "    <tr>\n",
              "      <th>1</th>\n",
              "      <td>E</td>\n",
              "      <td>SI1</td>\n",
              "      <td>59.8</td>\n",
              "      <td>61.0</td>\n",
              "      <td>326</td>\n",
              "    </tr>\n",
              "    <tr>\n",
              "      <th>2</th>\n",
              "      <td>E</td>\n",
              "      <td>VS1</td>\n",
              "      <td>56.9</td>\n",
              "      <td>65.0</td>\n",
              "      <td>327</td>\n",
              "    </tr>\n",
              "    <tr>\n",
              "      <th>3</th>\n",
              "      <td>I</td>\n",
              "      <td>VS2</td>\n",
              "      <td>62.4</td>\n",
              "      <td>58.0</td>\n",
              "      <td>334</td>\n",
              "    </tr>\n",
              "    <tr>\n",
              "      <th>4</th>\n",
              "      <td>J</td>\n",
              "      <td>SI2</td>\n",
              "      <td>63.3</td>\n",
              "      <td>58.0</td>\n",
              "      <td>335</td>\n",
              "    </tr>\n",
              "    <tr>\n",
              "      <th>...</th>\n",
              "      <td>...</td>\n",
              "      <td>...</td>\n",
              "      <td>...</td>\n",
              "      <td>...</td>\n",
              "      <td>...</td>\n",
              "    </tr>\n",
              "    <tr>\n",
              "      <th>53935</th>\n",
              "      <td>D</td>\n",
              "      <td>SI1</td>\n",
              "      <td>60.8</td>\n",
              "      <td>57.0</td>\n",
              "      <td>2757</td>\n",
              "    </tr>\n",
              "    <tr>\n",
              "      <th>53936</th>\n",
              "      <td>D</td>\n",
              "      <td>SI1</td>\n",
              "      <td>63.1</td>\n",
              "      <td>55.0</td>\n",
              "      <td>2757</td>\n",
              "    </tr>\n",
              "    <tr>\n",
              "      <th>53937</th>\n",
              "      <td>D</td>\n",
              "      <td>SI1</td>\n",
              "      <td>62.8</td>\n",
              "      <td>60.0</td>\n",
              "      <td>2757</td>\n",
              "    </tr>\n",
              "    <tr>\n",
              "      <th>53938</th>\n",
              "      <td>H</td>\n",
              "      <td>SI2</td>\n",
              "      <td>61.0</td>\n",
              "      <td>58.0</td>\n",
              "      <td>2757</td>\n",
              "    </tr>\n",
              "    <tr>\n",
              "      <th>53939</th>\n",
              "      <td>D</td>\n",
              "      <td>SI2</td>\n",
              "      <td>62.2</td>\n",
              "      <td>55.0</td>\n",
              "      <td>2757</td>\n",
              "    </tr>\n",
              "  </tbody>\n",
              "</table>\n",
              "<p>53940 rows × 5 columns</p>\n",
              "</div>"
            ],
            "text/plain": [
              "      color clarity  depth  table  price\n",
              "0         E     SI2   61.5   55.0    326\n",
              "1         E     SI1   59.8   61.0    326\n",
              "2         E     VS1   56.9   65.0    327\n",
              "3         I     VS2   62.4   58.0    334\n",
              "4         J     SI2   63.3   58.0    335\n",
              "...     ...     ...    ...    ...    ...\n",
              "53935     D     SI1   60.8   57.0   2757\n",
              "53936     D     SI1   63.1   55.0   2757\n",
              "53937     D     SI1   62.8   60.0   2757\n",
              "53938     H     SI2   61.0   58.0   2757\n",
              "53939     D     SI2   62.2   55.0   2757\n",
              "\n",
              "[53940 rows x 5 columns]"
            ]
          },
          "metadata": {
            "tags": []
          },
          "execution_count": 306
        }
      ]
    },
    {
      "cell_type": "markdown",
      "metadata": {
        "id": "MeJAngznzxVm"
      },
      "source": [
        "#Problem 9\n",
        "Write a Pandas program to read rows in which the 'cut' is 'Premium', column\n",
        "'color' of diamonds DataFrame\n",
        "#Answer\n"
      ]
    },
    {
      "cell_type": "code",
      "metadata": {
        "id": "29uehLxgzxVo",
        "colab": {
          "base_uri": "https://localhost:8080/",
          "height": 487
        },
        "outputId": "d5b10c93-51e0-4542-f07a-0c64f17514a8"
      },
      "source": [
        "print(Diamonds[Diamonds['cut'] == 'Premium']['cut'].value_counts())\n",
        "\n",
        "Diamonds[Diamonds['cut'] == 'Premium'][['cut', 'color']]"
      ],
      "execution_count": null,
      "outputs": [
        {
          "output_type": "stream",
          "text": [
            "Premium    13791\n",
            "Name: cut, dtype: int64 \n",
            "\n",
            "\n"
          ],
          "name": "stdout"
        },
        {
          "output_type": "execute_result",
          "data": {
            "text/html": [
              "<div>\n",
              "<style scoped>\n",
              "    .dataframe tbody tr th:only-of-type {\n",
              "        vertical-align: middle;\n",
              "    }\n",
              "\n",
              "    .dataframe tbody tr th {\n",
              "        vertical-align: top;\n",
              "    }\n",
              "\n",
              "    .dataframe thead th {\n",
              "        text-align: right;\n",
              "    }\n",
              "</style>\n",
              "<table border=\"1\" class=\"dataframe\">\n",
              "  <thead>\n",
              "    <tr style=\"text-align: right;\">\n",
              "      <th></th>\n",
              "      <th>cut</th>\n",
              "      <th>color</th>\n",
              "    </tr>\n",
              "  </thead>\n",
              "  <tbody>\n",
              "    <tr>\n",
              "      <th>1</th>\n",
              "      <td>Premium</td>\n",
              "      <td>E</td>\n",
              "    </tr>\n",
              "    <tr>\n",
              "      <th>3</th>\n",
              "      <td>Premium</td>\n",
              "      <td>I</td>\n",
              "    </tr>\n",
              "    <tr>\n",
              "      <th>12</th>\n",
              "      <td>Premium</td>\n",
              "      <td>F</td>\n",
              "    </tr>\n",
              "    <tr>\n",
              "      <th>14</th>\n",
              "      <td>Premium</td>\n",
              "      <td>E</td>\n",
              "    </tr>\n",
              "    <tr>\n",
              "      <th>15</th>\n",
              "      <td>Premium</td>\n",
              "      <td>E</td>\n",
              "    </tr>\n",
              "    <tr>\n",
              "      <th>...</th>\n",
              "      <td>...</td>\n",
              "      <td>...</td>\n",
              "    </tr>\n",
              "    <tr>\n",
              "      <th>53928</th>\n",
              "      <td>Premium</td>\n",
              "      <td>E</td>\n",
              "    </tr>\n",
              "    <tr>\n",
              "      <th>53930</th>\n",
              "      <td>Premium</td>\n",
              "      <td>E</td>\n",
              "    </tr>\n",
              "    <tr>\n",
              "      <th>53931</th>\n",
              "      <td>Premium</td>\n",
              "      <td>F</td>\n",
              "    </tr>\n",
              "    <tr>\n",
              "      <th>53934</th>\n",
              "      <td>Premium</td>\n",
              "      <td>D</td>\n",
              "    </tr>\n",
              "    <tr>\n",
              "      <th>53938</th>\n",
              "      <td>Premium</td>\n",
              "      <td>H</td>\n",
              "    </tr>\n",
              "  </tbody>\n",
              "</table>\n",
              "<p>13791 rows × 2 columns</p>\n",
              "</div>"
            ],
            "text/plain": [
              "           cut color\n",
              "1      Premium     E\n",
              "3      Premium     I\n",
              "12     Premium     F\n",
              "14     Premium     E\n",
              "15     Premium     E\n",
              "...        ...   ...\n",
              "53928  Premium     E\n",
              "53930  Premium     E\n",
              "53931  Premium     F\n",
              "53934  Premium     D\n",
              "53938  Premium     H\n",
              "\n",
              "[13791 rows x 2 columns]"
            ]
          },
          "metadata": {
            "tags": []
          },
          "execution_count": 309
        }
      ]
    },
    {
      "cell_type": "markdown",
      "metadata": {
        "id": "NFNQtv6lzxRe"
      },
      "source": [
        "#Problem 10\n",
        "Write a Pandas program to read rows in positions 0 and 1, columns in positions 0\n",
        "and 3 of diamonds DataFrame\n",
        "#Answer\n"
      ]
    },
    {
      "cell_type": "code",
      "metadata": {
        "id": "2900x3Nfzwts",
        "colab": {
          "base_uri": "https://localhost:8080/",
          "height": 170
        },
        "outputId": "dad2c9ca-5e86-4f31-ed9b-53e92a459afb"
      },
      "source": [
        "print(\"COLUMNS :: \", Diamonds.columns.values)\n",
        "\n",
        "x = int(input(\"\\nSelct ROWS\\nStart ::\\t\"))\n",
        "z = int(input(\"End  ::\\t\"))\n",
        "m = int(input(\"\\nSelect COLUMNS\\nStart :: \"))\n",
        "n = int(input(\"End   :: \"))"
      ],
      "execution_count": null,
      "outputs": [
        {
          "output_type": "stream",
          "text": [
            "COLUMNS ::  ['carat' 'cut' 'color' 'clarity' 'depth' 'table' 'price' 'x' 'y' 'z']\n",
            "\n",
            "Selct ROWS\n",
            "Start ::\t0\n",
            "End  ::\t1\n",
            "\n",
            "Select COLUMNS\n",
            "Start :: 0\n",
            "End   :: 3\n"
          ],
          "name": "stdout"
        }
      ]
    },
    {
      "cell_type": "code",
      "metadata": {
        "id": "H2aByueX6Qg6",
        "colab": {
          "base_uri": "https://localhost:8080/",
          "height": 111
        },
        "outputId": "23bcc4b3-0767-4745-811d-3820e9555ba7"
      },
      "source": [
        "Diamonds.iloc[[x,z], [m,n]]"
      ],
      "execution_count": null,
      "outputs": [
        {
          "output_type": "execute_result",
          "data": {
            "text/html": [
              "<div>\n",
              "<style scoped>\n",
              "    .dataframe tbody tr th:only-of-type {\n",
              "        vertical-align: middle;\n",
              "    }\n",
              "\n",
              "    .dataframe tbody tr th {\n",
              "        vertical-align: top;\n",
              "    }\n",
              "\n",
              "    .dataframe thead th {\n",
              "        text-align: right;\n",
              "    }\n",
              "</style>\n",
              "<table border=\"1\" class=\"dataframe\">\n",
              "  <thead>\n",
              "    <tr style=\"text-align: right;\">\n",
              "      <th></th>\n",
              "      <th>carat</th>\n",
              "      <th>clarity</th>\n",
              "    </tr>\n",
              "  </thead>\n",
              "  <tbody>\n",
              "    <tr>\n",
              "      <th>0</th>\n",
              "      <td>0.23</td>\n",
              "      <td>SI2</td>\n",
              "    </tr>\n",
              "    <tr>\n",
              "      <th>1</th>\n",
              "      <td>0.21</td>\n",
              "      <td>SI1</td>\n",
              "    </tr>\n",
              "  </tbody>\n",
              "</table>\n",
              "</div>"
            ],
            "text/plain": [
              "   carat clarity\n",
              "0   0.23     SI2\n",
              "1   0.21     SI1"
            ]
          },
          "metadata": {
            "tags": []
          },
          "execution_count": 311
        }
      ]
    },
    {
      "cell_type": "markdown",
      "metadata": {
        "id": "iydbo6YB7kSx"
      },
      "source": [
        "#Problem 11\n",
        "Write a Pandas program to read rows in positions 0 through 4, columns in\n",
        "positions 1 through 4 of diamonds DataFrame\n",
        "#Answer\n"
      ]
    },
    {
      "cell_type": "code",
      "metadata": {
        "id": "iGp7LaIm7kS3",
        "colab": {
          "base_uri": "https://localhost:8080/",
          "height": 170
        },
        "outputId": "595a7c3c-40c8-4bd5-c856-500513aba8d6"
      },
      "source": [
        "print(\"COLUMNS :: \", Diamonds.columns.values)\n",
        "\n",
        "x = int(input(\"\\nSelct ROWS\\nStart :: \"))\n",
        "z = int(input(\"End   :: \"))\n",
        "m = int(input(\"\\nSelect COLUMNS\\nStart :: \"))\n",
        "n = int(input(\"End   :: \"))"
      ],
      "execution_count": null,
      "outputs": [
        {
          "output_type": "stream",
          "text": [
            "COLUMNS ::  ['carat' 'cut' 'color' 'clarity' 'depth' 'table' 'price' 'x' 'y' 'z']\n",
            "\n",
            "Selct ROWS\n",
            "Start :: 0\n",
            "End   :: 4\n",
            "\n",
            "Select COLUMNS\n",
            "Start :: 1\n",
            "End   :: 4\n"
          ],
          "name": "stdout"
        }
      ]
    },
    {
      "cell_type": "code",
      "metadata": {
        "id": "KbNAR5ql7kTH",
        "colab": {
          "base_uri": "https://localhost:8080/",
          "height": 173
        },
        "outputId": "71fe0160-6277-4368-9a93-bf5ac92e7339"
      },
      "source": [
        "Diamonds.iloc[x:z, m:n]"
      ],
      "execution_count": null,
      "outputs": [
        {
          "output_type": "execute_result",
          "data": {
            "text/html": [
              "<div>\n",
              "<style scoped>\n",
              "    .dataframe tbody tr th:only-of-type {\n",
              "        vertical-align: middle;\n",
              "    }\n",
              "\n",
              "    .dataframe tbody tr th {\n",
              "        vertical-align: top;\n",
              "    }\n",
              "\n",
              "    .dataframe thead th {\n",
              "        text-align: right;\n",
              "    }\n",
              "</style>\n",
              "<table border=\"1\" class=\"dataframe\">\n",
              "  <thead>\n",
              "    <tr style=\"text-align: right;\">\n",
              "      <th></th>\n",
              "      <th>cut</th>\n",
              "      <th>color</th>\n",
              "      <th>clarity</th>\n",
              "    </tr>\n",
              "  </thead>\n",
              "  <tbody>\n",
              "    <tr>\n",
              "      <th>0</th>\n",
              "      <td>Ideal</td>\n",
              "      <td>E</td>\n",
              "      <td>SI2</td>\n",
              "    </tr>\n",
              "    <tr>\n",
              "      <th>1</th>\n",
              "      <td>Premium</td>\n",
              "      <td>E</td>\n",
              "      <td>SI1</td>\n",
              "    </tr>\n",
              "    <tr>\n",
              "      <th>2</th>\n",
              "      <td>Good</td>\n",
              "      <td>E</td>\n",
              "      <td>VS1</td>\n",
              "    </tr>\n",
              "    <tr>\n",
              "      <th>3</th>\n",
              "      <td>Premium</td>\n",
              "      <td>I</td>\n",
              "      <td>VS2</td>\n",
              "    </tr>\n",
              "  </tbody>\n",
              "</table>\n",
              "</div>"
            ],
            "text/plain": [
              "       cut color clarity\n",
              "0    Ideal     E     SI2\n",
              "1  Premium     E     SI1\n",
              "2     Good     E     VS1\n",
              "3  Premium     I     VS2"
            ]
          },
          "metadata": {
            "tags": []
          },
          "execution_count": 313
        }
      ]
    },
    {
      "cell_type": "markdown",
      "metadata": {
        "id": "O_1aFReQ8baL"
      },
      "source": [
        "#Problem 12\n",
        "Write a Pandas program to read rows in positions 0 through 4 (exclusive) and all\n",
        "columns of diamonds DataFrame\n",
        "#Answer\n"
      ]
    },
    {
      "cell_type": "code",
      "metadata": {
        "id": "X24iG1jM8baX",
        "colab": {
          "base_uri": "https://localhost:8080/",
          "height": 102
        },
        "outputId": "c69b6b53-5c69-468a-a9ae-8f2119df7c88"
      },
      "source": [
        "print(\"COLUMNS :: \", Diamonds.columns.values)\n",
        "\n",
        "x = int(input(\"\\nSelct ROWS\\nStart ::\\t\")) \n",
        "z = int(input(\"End  ::\\t\")) + 1"
      ],
      "execution_count": null,
      "outputs": [
        {
          "output_type": "stream",
          "text": [
            "COLUMNS ::  ['carat' 'cut' 'color' 'clarity' 'depth' 'table' 'price' 'x' 'y' 'z']\n",
            "\n",
            "Selct ROWS\n",
            "Start ::\t0\n",
            "End  ::\t4\n"
          ],
          "name": "stdout"
        }
      ]
    },
    {
      "cell_type": "code",
      "metadata": {
        "id": "zZ34w6FV8bay",
        "colab": {
          "base_uri": "https://localhost:8080/",
          "height": 204
        },
        "outputId": "f05e7e3e-7875-4af1-c38a-ab05224a2aed"
      },
      "source": [
        "Diamonds.iloc[x:z, :]"
      ],
      "execution_count": null,
      "outputs": [
        {
          "output_type": "execute_result",
          "data": {
            "text/html": [
              "<div>\n",
              "<style scoped>\n",
              "    .dataframe tbody tr th:only-of-type {\n",
              "        vertical-align: middle;\n",
              "    }\n",
              "\n",
              "    .dataframe tbody tr th {\n",
              "        vertical-align: top;\n",
              "    }\n",
              "\n",
              "    .dataframe thead th {\n",
              "        text-align: right;\n",
              "    }\n",
              "</style>\n",
              "<table border=\"1\" class=\"dataframe\">\n",
              "  <thead>\n",
              "    <tr style=\"text-align: right;\">\n",
              "      <th></th>\n",
              "      <th>carat</th>\n",
              "      <th>cut</th>\n",
              "      <th>color</th>\n",
              "      <th>clarity</th>\n",
              "      <th>depth</th>\n",
              "      <th>table</th>\n",
              "      <th>price</th>\n",
              "      <th>x</th>\n",
              "      <th>y</th>\n",
              "      <th>z</th>\n",
              "    </tr>\n",
              "  </thead>\n",
              "  <tbody>\n",
              "    <tr>\n",
              "      <th>0</th>\n",
              "      <td>0.23</td>\n",
              "      <td>Ideal</td>\n",
              "      <td>E</td>\n",
              "      <td>SI2</td>\n",
              "      <td>61.5</td>\n",
              "      <td>55.0</td>\n",
              "      <td>326</td>\n",
              "      <td>3.95</td>\n",
              "      <td>3.98</td>\n",
              "      <td>2.43</td>\n",
              "    </tr>\n",
              "    <tr>\n",
              "      <th>1</th>\n",
              "      <td>0.21</td>\n",
              "      <td>Premium</td>\n",
              "      <td>E</td>\n",
              "      <td>SI1</td>\n",
              "      <td>59.8</td>\n",
              "      <td>61.0</td>\n",
              "      <td>326</td>\n",
              "      <td>3.89</td>\n",
              "      <td>3.84</td>\n",
              "      <td>2.31</td>\n",
              "    </tr>\n",
              "    <tr>\n",
              "      <th>2</th>\n",
              "      <td>0.23</td>\n",
              "      <td>Good</td>\n",
              "      <td>E</td>\n",
              "      <td>VS1</td>\n",
              "      <td>56.9</td>\n",
              "      <td>65.0</td>\n",
              "      <td>327</td>\n",
              "      <td>4.05</td>\n",
              "      <td>4.07</td>\n",
              "      <td>2.31</td>\n",
              "    </tr>\n",
              "    <tr>\n",
              "      <th>3</th>\n",
              "      <td>0.29</td>\n",
              "      <td>Premium</td>\n",
              "      <td>I</td>\n",
              "      <td>VS2</td>\n",
              "      <td>62.4</td>\n",
              "      <td>58.0</td>\n",
              "      <td>334</td>\n",
              "      <td>4.20</td>\n",
              "      <td>4.23</td>\n",
              "      <td>2.63</td>\n",
              "    </tr>\n",
              "    <tr>\n",
              "      <th>4</th>\n",
              "      <td>0.31</td>\n",
              "      <td>Good</td>\n",
              "      <td>J</td>\n",
              "      <td>SI2</td>\n",
              "      <td>63.3</td>\n",
              "      <td>58.0</td>\n",
              "      <td>335</td>\n",
              "      <td>4.34</td>\n",
              "      <td>4.35</td>\n",
              "      <td>2.75</td>\n",
              "    </tr>\n",
              "  </tbody>\n",
              "</table>\n",
              "</div>"
            ],
            "text/plain": [
              "   carat      cut color clarity  depth  table  price     x     y     z\n",
              "0   0.23    Ideal     E     SI2   61.5   55.0    326  3.95  3.98  2.43\n",
              "1   0.21  Premium     E     SI1   59.8   61.0    326  3.89  3.84  2.31\n",
              "2   0.23     Good     E     VS1   56.9   65.0    327  4.05  4.07  2.31\n",
              "3   0.29  Premium     I     VS2   62.4   58.0    334  4.20  4.23  2.63\n",
              "4   0.31     Good     J     SI2   63.3   58.0    335  4.34  4.35  2.75"
            ]
          },
          "metadata": {
            "tags": []
          },
          "execution_count": 316
        }
      ]
    },
    {
      "cell_type": "markdown",
      "metadata": {
        "id": "lG7nxEHZ9CtA"
      },
      "source": [
        "#Problem 13\n",
        "Write a Pandas program to read rows 2 through 5 (inclusive), columns in\n",
        "positions 0 through 2 (exclusive) of diamonds DataFrame\n",
        "#Answer\n"
      ]
    },
    {
      "cell_type": "code",
      "metadata": {
        "id": "L4uf2MDZ9CtF",
        "colab": {
          "base_uri": "https://localhost:8080/",
          "height": 170
        },
        "outputId": "9ad61595-c611-4ded-89f7-494ed50e2df5"
      },
      "source": [
        "print(\"COLUMNS :: \", Diamonds.columns.values)\n",
        "\n",
        "x = int(input(\"\\nSelct ROWS\\nStart ::\\t\"))\n",
        "z = int(input(\"End  ::\\t\")) + 1\n",
        "m = int(input(\"\\nSelect COLUMNS\\nStart :: \"))\n",
        "n = int(input(\"End   :: \"))"
      ],
      "execution_count": null,
      "outputs": [
        {
          "output_type": "stream",
          "text": [
            "COLUMNS ::  ['carat' 'cut' 'color' 'clarity' 'depth' 'table' 'price' 'x' 'y' 'z']\n",
            "\n",
            "Selct ROWS\n",
            "Start ::\t2\n",
            "End  ::\t5\n",
            "\n",
            "Select COLUMNS\n",
            "Start :: 0\n",
            "End   :: 2\n"
          ],
          "name": "stdout"
        }
      ]
    },
    {
      "cell_type": "code",
      "metadata": {
        "id": "Jrupj4K19CtY",
        "colab": {
          "base_uri": "https://localhost:8080/",
          "height": 173
        },
        "outputId": "806c97a7-2010-4b8e-8852-f8e1e35fa32e"
      },
      "source": [
        "Diamonds.iloc[x:z, m:n]"
      ],
      "execution_count": null,
      "outputs": [
        {
          "output_type": "execute_result",
          "data": {
            "text/html": [
              "<div>\n",
              "<style scoped>\n",
              "    .dataframe tbody tr th:only-of-type {\n",
              "        vertical-align: middle;\n",
              "    }\n",
              "\n",
              "    .dataframe tbody tr th {\n",
              "        vertical-align: top;\n",
              "    }\n",
              "\n",
              "    .dataframe thead th {\n",
              "        text-align: right;\n",
              "    }\n",
              "</style>\n",
              "<table border=\"1\" class=\"dataframe\">\n",
              "  <thead>\n",
              "    <tr style=\"text-align: right;\">\n",
              "      <th></th>\n",
              "      <th>carat</th>\n",
              "      <th>cut</th>\n",
              "    </tr>\n",
              "  </thead>\n",
              "  <tbody>\n",
              "    <tr>\n",
              "      <th>2</th>\n",
              "      <td>0.23</td>\n",
              "      <td>Good</td>\n",
              "    </tr>\n",
              "    <tr>\n",
              "      <th>3</th>\n",
              "      <td>0.29</td>\n",
              "      <td>Premium</td>\n",
              "    </tr>\n",
              "    <tr>\n",
              "      <th>4</th>\n",
              "      <td>0.31</td>\n",
              "      <td>Good</td>\n",
              "    </tr>\n",
              "    <tr>\n",
              "      <th>5</th>\n",
              "      <td>0.24</td>\n",
              "      <td>Very Good</td>\n",
              "    </tr>\n",
              "  </tbody>\n",
              "</table>\n",
              "</div>"
            ],
            "text/plain": [
              "   carat        cut\n",
              "2   0.23       Good\n",
              "3   0.29    Premium\n",
              "4   0.31       Good\n",
              "5   0.24  Very Good"
            ]
          },
          "metadata": {
            "tags": []
          },
          "execution_count": 318
        }
      ]
    },
    {
      "cell_type": "markdown",
      "metadata": {
        "id": "_osdENQc9T2U"
      },
      "source": [
        "#Problem 14\n",
        "Write a Pandas program to print a concise summary of diamonds DataFrame.\n",
        "#Answer\n"
      ]
    },
    {
      "cell_type": "code",
      "metadata": {
        "id": "ud2wLa439T2Y",
        "colab": {
          "base_uri": "https://localhost:8080/",
          "height": 297
        },
        "outputId": "31d12462-7e6a-48f4-8bdc-d8b98d732a10"
      },
      "source": [
        "Diamonds.describe()"
      ],
      "execution_count": null,
      "outputs": [
        {
          "output_type": "execute_result",
          "data": {
            "text/html": [
              "<div>\n",
              "<style scoped>\n",
              "    .dataframe tbody tr th:only-of-type {\n",
              "        vertical-align: middle;\n",
              "    }\n",
              "\n",
              "    .dataframe tbody tr th {\n",
              "        vertical-align: top;\n",
              "    }\n",
              "\n",
              "    .dataframe thead th {\n",
              "        text-align: right;\n",
              "    }\n",
              "</style>\n",
              "<table border=\"1\" class=\"dataframe\">\n",
              "  <thead>\n",
              "    <tr style=\"text-align: right;\">\n",
              "      <th></th>\n",
              "      <th>carat</th>\n",
              "      <th>depth</th>\n",
              "      <th>table</th>\n",
              "      <th>price</th>\n",
              "      <th>x</th>\n",
              "      <th>y</th>\n",
              "      <th>z</th>\n",
              "    </tr>\n",
              "  </thead>\n",
              "  <tbody>\n",
              "    <tr>\n",
              "      <th>count</th>\n",
              "      <td>53940.000000</td>\n",
              "      <td>53940.000000</td>\n",
              "      <td>53940.000000</td>\n",
              "      <td>53940.000000</td>\n",
              "      <td>53940.000000</td>\n",
              "      <td>53940.000000</td>\n",
              "      <td>53940.000000</td>\n",
              "    </tr>\n",
              "    <tr>\n",
              "      <th>mean</th>\n",
              "      <td>0.797940</td>\n",
              "      <td>61.749405</td>\n",
              "      <td>57.457184</td>\n",
              "      <td>3932.799722</td>\n",
              "      <td>5.731157</td>\n",
              "      <td>5.734526</td>\n",
              "      <td>3.538734</td>\n",
              "    </tr>\n",
              "    <tr>\n",
              "      <th>std</th>\n",
              "      <td>0.474011</td>\n",
              "      <td>1.432621</td>\n",
              "      <td>2.234491</td>\n",
              "      <td>3989.439738</td>\n",
              "      <td>1.121761</td>\n",
              "      <td>1.142135</td>\n",
              "      <td>0.705699</td>\n",
              "    </tr>\n",
              "    <tr>\n",
              "      <th>min</th>\n",
              "      <td>0.200000</td>\n",
              "      <td>43.000000</td>\n",
              "      <td>43.000000</td>\n",
              "      <td>326.000000</td>\n",
              "      <td>0.000000</td>\n",
              "      <td>0.000000</td>\n",
              "      <td>0.000000</td>\n",
              "    </tr>\n",
              "    <tr>\n",
              "      <th>25%</th>\n",
              "      <td>0.400000</td>\n",
              "      <td>61.000000</td>\n",
              "      <td>56.000000</td>\n",
              "      <td>950.000000</td>\n",
              "      <td>4.710000</td>\n",
              "      <td>4.720000</td>\n",
              "      <td>2.910000</td>\n",
              "    </tr>\n",
              "    <tr>\n",
              "      <th>50%</th>\n",
              "      <td>0.700000</td>\n",
              "      <td>61.800000</td>\n",
              "      <td>57.000000</td>\n",
              "      <td>2401.000000</td>\n",
              "      <td>5.700000</td>\n",
              "      <td>5.710000</td>\n",
              "      <td>3.530000</td>\n",
              "    </tr>\n",
              "    <tr>\n",
              "      <th>75%</th>\n",
              "      <td>1.040000</td>\n",
              "      <td>62.500000</td>\n",
              "      <td>59.000000</td>\n",
              "      <td>5324.250000</td>\n",
              "      <td>6.540000</td>\n",
              "      <td>6.540000</td>\n",
              "      <td>4.040000</td>\n",
              "    </tr>\n",
              "    <tr>\n",
              "      <th>max</th>\n",
              "      <td>5.010000</td>\n",
              "      <td>79.000000</td>\n",
              "      <td>95.000000</td>\n",
              "      <td>18823.000000</td>\n",
              "      <td>10.740000</td>\n",
              "      <td>58.900000</td>\n",
              "      <td>31.800000</td>\n",
              "    </tr>\n",
              "  </tbody>\n",
              "</table>\n",
              "</div>"
            ],
            "text/plain": [
              "              carat         depth  ...             y             z\n",
              "count  53940.000000  53940.000000  ...  53940.000000  53940.000000\n",
              "mean       0.797940     61.749405  ...      5.734526      3.538734\n",
              "std        0.474011      1.432621  ...      1.142135      0.705699\n",
              "min        0.200000     43.000000  ...      0.000000      0.000000\n",
              "25%        0.400000     61.000000  ...      4.720000      2.910000\n",
              "50%        0.700000     61.800000  ...      5.710000      3.530000\n",
              "75%        1.040000     62.500000  ...      6.540000      4.040000\n",
              "max        5.010000     79.000000  ...     58.900000     31.800000\n",
              "\n",
              "[8 rows x 7 columns]"
            ]
          },
          "metadata": {
            "tags": []
          },
          "execution_count": 319
        }
      ]
    },
    {
      "cell_type": "code",
      "metadata": {
        "id": "ppsAyiIl9T2v",
        "colab": {
          "base_uri": "https://localhost:8080/",
          "height": 306
        },
        "outputId": "ea8bceff-275c-438b-c48a-c7a7453d1cfc"
      },
      "source": [
        "Diamonds.info()"
      ],
      "execution_count": null,
      "outputs": [
        {
          "output_type": "stream",
          "text": [
            "<class 'pandas.core.frame.DataFrame'>\n",
            "RangeIndex: 53940 entries, 0 to 53939\n",
            "Data columns (total 10 columns):\n",
            " #   Column   Non-Null Count  Dtype  \n",
            "---  ------   --------------  -----  \n",
            " 0   carat    53940 non-null  float64\n",
            " 1   cut      53940 non-null  object \n",
            " 2   color    53940 non-null  object \n",
            " 3   clarity  53940 non-null  object \n",
            " 4   depth    53940 non-null  float64\n",
            " 5   table    53940 non-null  float64\n",
            " 6   price    53940 non-null  int64  \n",
            " 7   x        53940 non-null  float64\n",
            " 8   y        53940 non-null  float64\n",
            " 9   z        53940 non-null  float64\n",
            "dtypes: float64(6), int64(1), object(3)\n",
            "memory usage: 4.1+ MB\n"
          ],
          "name": "stdout"
        }
      ]
    },
    {
      "cell_type": "markdown",
      "metadata": {
        "id": "H726phRZ9jv5"
      },
      "source": [
        "#Problem 15\n",
        "Write a Pandas program to get the true memory usage by diamonds DataFrame\n",
        "#Answer\n"
      ]
    },
    {
      "cell_type": "code",
      "metadata": {
        "id": "4-rHjAs39jwL",
        "colab": {
          "base_uri": "https://localhost:8080/",
          "height": 221
        },
        "outputId": "b1fa5c72-0017-48fa-dcfe-17a92b162c16"
      },
      "source": [
        "Diamonds.memory_usage(index=True, deep=True)"
      ],
      "execution_count": null,
      "outputs": [
        {
          "output_type": "execute_result",
          "data": {
            "text/plain": [
              "Index          128\n",
              "carat       431520\n",
              "cut        3413674\n",
              "color      3560040\n",
              "clarity    3242590\n",
              "depth       431520\n",
              "table       431520\n",
              "price       431520\n",
              "x           431520\n",
              "y           431520\n",
              "z           431520\n",
              "dtype: int64"
            ]
          },
          "metadata": {
            "tags": []
          },
          "execution_count": 321
        }
      ]
    },
    {
      "cell_type": "code",
      "metadata": {
        "id": "7VFdMQBxwtJM",
        "colab": {
          "base_uri": "https://localhost:8080/",
          "height": 306
        },
        "outputId": "0cd3a8ec-6ee8-4b3c-f37f-3e9b745bdbe0"
      },
      "source": [
        "Diamonds.info()"
      ],
      "execution_count": null,
      "outputs": [
        {
          "output_type": "stream",
          "text": [
            "<class 'pandas.core.frame.DataFrame'>\n",
            "RangeIndex: 53940 entries, 0 to 53939\n",
            "Data columns (total 10 columns):\n",
            " #   Column   Non-Null Count  Dtype  \n",
            "---  ------   --------------  -----  \n",
            " 0   carat    53940 non-null  float64\n",
            " 1   cut      53940 non-null  object \n",
            " 2   color    53940 non-null  object \n",
            " 3   clarity  53940 non-null  object \n",
            " 4   depth    53940 non-null  float64\n",
            " 5   table    53940 non-null  float64\n",
            " 6   price    53940 non-null  int64  \n",
            " 7   x        53940 non-null  float64\n",
            " 8   y        53940 non-null  float64\n",
            " 9   z        53940 non-null  float64\n",
            "dtypes: float64(6), int64(1), object(3)\n",
            "memory usage: 4.1+ MB\n"
          ],
          "name": "stdout"
        }
      ]
    },
    {
      "cell_type": "markdown",
      "metadata": {
        "id": "YyIM3eE5_47l"
      },
      "source": [
        "#Problem 16\n",
        "Write a Pandas program to calculate the memory usage for each Series (in\n",
        "bytes) of diamonds DataFrame\n",
        "#Answer\n"
      ]
    },
    {
      "cell_type": "code",
      "metadata": {
        "id": "TuirjcgM-NFP",
        "colab": {
          "base_uri": "https://localhost:8080/",
          "height": 187
        },
        "outputId": "9280c90f-8023-41c0-e183-f46688f9a10e"
      },
      "source": [
        "for i in Diamonds.columns:\n",
        "  print(\"SERIES :: \",i, \" :: Memory Usage :: \",Diamonds[i].memory_usage())"
      ],
      "execution_count": null,
      "outputs": [
        {
          "output_type": "stream",
          "text": [
            "SERIES ::  carat  :: Memory Usage ::  431648\n",
            "SERIES ::  cut  :: Memory Usage ::  431648\n",
            "SERIES ::  color  :: Memory Usage ::  431648\n",
            "SERIES ::  clarity  :: Memory Usage ::  431648\n",
            "SERIES ::  depth  :: Memory Usage ::  431648\n",
            "SERIES ::  table  :: Memory Usage ::  431648\n",
            "SERIES ::  price  :: Memory Usage ::  431648\n",
            "SERIES ::  x  :: Memory Usage ::  431648\n",
            "SERIES ::  y  :: Memory Usage ::  431648\n",
            "SERIES ::  z  :: Memory Usage ::  431648\n"
          ],
          "name": "stdout"
        }
      ]
    },
    {
      "cell_type": "markdown",
      "metadata": {
        "id": "vKJzevo6CNEx"
      },
      "source": [
        "#Problem 17\n",
        "Write a Pandas program to get randomly sample rows from diamonds\n",
        "DataFrame\n",
        "#Answer\n"
      ]
    },
    {
      "cell_type": "code",
      "metadata": {
        "id": "Nge10ZjbAiX5",
        "colab": {
          "base_uri": "https://localhost:8080/",
          "height": 1000
        },
        "outputId": "51a2203f-7e8a-4121-d0dd-2a20f746d1db"
      },
      "source": [
        "while(1):\n",
        "  x = int(input(\"\\nGET RANDOM SAMPLES\\n\\n \\\n",
        "                1. Get 1 RANDOM Sample\\n \\\n",
        "                2. Get 3 RANDOM Sample\\n \\\n",
        "                3. Get 5 RANDOM Sample\\n \\\n",
        "                4. Get 7 RANDOM Sample\\n \\\n",
        "                5. Get 10 RANDOM Sample\\n \\\n",
        "                0. EXIT\\nOption : \"))\n",
        "\n",
        "  if (x == 1):\n",
        "    print(Diamonds.sample(1))\n",
        "  elif (x == 2):\n",
        "    print(Diamonds.sample(3))\n",
        "  elif (x == 3):\n",
        "    print(Diamonds.sample(5))\n",
        "  elif (x == 4):\n",
        "    print(Diamonds.sample(7))\n",
        "  elif (x == 5):\n",
        "    print(Diamonds.sample(10))\n",
        "  elif (x == 0):\n",
        "    break\n",
        "  else:\n",
        "    print(\"Invalid Option\")"
      ],
      "execution_count": null,
      "outputs": [
        {
          "output_type": "stream",
          "text": [
            "\n",
            "GET RANDOM SAMPLES\n",
            "\n",
            "                 1. Get 1 RANDOM Sample\n",
            "                 2. Get 3 RANDOM Sample\n",
            "                 3. Get 5 RANDOM Sample\n",
            "                 4. Get 7 RANDOM Sample\n",
            "                 5. Get 10 RANDOM Sample\n",
            "                 0. EXIT\n",
            "Option : 1\n",
            "       carat      cut color clarity  depth  table  price    x     y     z\n",
            "12705   0.26  Premium     E    VVS1   61.7   59.0    599  4.1  4.14  2.54\n",
            "\n",
            "GET RANDOM SAMPLES\n",
            "\n",
            "                 1. Get 1 RANDOM Sample\n",
            "                 2. Get 3 RANDOM Sample\n",
            "                 3. Get 5 RANDOM Sample\n",
            "                 4. Get 7 RANDOM Sample\n",
            "                 5. Get 10 RANDOM Sample\n",
            "                 0. EXIT\n",
            "Option : 2\n",
            "       carat      cut color clarity  depth  table  price     x     y     z\n",
            "21693   0.34  Premium     I    VVS1   60.5   59.0    626  4.48  4.54  2.73\n",
            "18914   1.00  Premium     G    VVS2   61.6   61.0   7762  6.38  6.35  3.92\n",
            "45571   0.52    Ideal     E     VS2   62.2   56.0   1689  5.11  5.15  3.19\n",
            "\n",
            "GET RANDOM SAMPLES\n",
            "\n",
            "                 1. Get 1 RANDOM Sample\n",
            "                 2. Get 3 RANDOM Sample\n",
            "                 3. Get 5 RANDOM Sample\n",
            "                 4. Get 7 RANDOM Sample\n",
            "                 5. Get 10 RANDOM Sample\n",
            "                 0. EXIT\n",
            "Option : 3\n",
            "       carat        cut color clarity  depth  table  price     x     y     z\n",
            "41987   0.43    Premium     G    VVS1   60.3   58.0   1264  4.91  4.87  2.95\n",
            "13164   1.24      Ideal     E     SI2   59.2   55.0   5444  7.05  7.03  4.17\n",
            "5534    0.90  Very Good     F     SI1   61.7   60.0   3854  6.19  6.22  3.83\n",
            "30431   0.32      Ideal     G    VVS2   62.1   57.0    730  4.40  4.42  2.74\n",
            "31354   0.27      Ideal     F      IF   61.3   57.0    760  4.16  4.20  2.56\n",
            "\n",
            "GET RANDOM SAMPLES\n",
            "\n",
            "                 1. Get 1 RANDOM Sample\n",
            "                 2. Get 3 RANDOM Sample\n",
            "                 3. Get 5 RANDOM Sample\n",
            "                 4. Get 7 RANDOM Sample\n",
            "                 5. Get 10 RANDOM Sample\n",
            "                 0. EXIT\n",
            "Option : 4\n",
            "       carat        cut color clarity  depth  table  price     x     y     z\n",
            "43630   0.43    Premium     G      IF   61.4   59.0   1433  4.79  4.85  2.96\n",
            "50781   0.52    Premium     E    VVS1   59.8   58.0   2302  5.27  5.24  3.14\n",
            "2360    0.90      Ideal     J     VS1   62.5   55.0   3175  6.18  6.14  3.85\n",
            "41711   0.53      Ideal     I     VS2   62.3   57.0   1243  5.15  5.18  3.22\n",
            "17835   1.02      Ideal     G     VS1   61.3   56.0   7192  6.49  6.53  3.99\n",
            "11658   1.07    Premium     H     SI1   62.2   57.0   5055  6.57  6.48  4.06\n",
            "42004   0.51  Very Good     E     SI2   58.3   63.0   1265  5.21  5.26  3.05\n",
            "\n",
            "GET RANDOM SAMPLES\n",
            "\n",
            "                 1. Get 1 RANDOM Sample\n",
            "                 2. Get 3 RANDOM Sample\n",
            "                 3. Get 5 RANDOM Sample\n",
            "                 4. Get 7 RANDOM Sample\n",
            "                 5. Get 10 RANDOM Sample\n",
            "                 0. EXIT\n",
            "Option : 5\n",
            "       carat        cut color clarity  depth  table  price     x     y     z\n",
            "10046   0.31  Very Good     I     SI1   62.8   60.0    418  4.29  4.31  2.70\n",
            "13881   1.31  Very Good     I     SI2   60.9   58.0   5652  7.03  7.07  4.29\n",
            "28062   0.38      Ideal     E     SI1   59.4   61.0    660  4.72  4.74  2.81\n",
            "18592   1.02  Very Good     F     VS1   62.4   58.0   7587  6.42  6.47  4.02\n",
            "22294   1.70  Very Good     I     SI1   63.1   57.0  10341  7.51  7.46  4.72\n",
            "44745   0.50      Ideal     E     VS1   62.2   56.0   1619  5.10  5.13  3.18\n",
            "49110   0.52      Ideal     G    VVS1   60.7   55.0   2065  5.19  5.29  3.18\n",
            "40876   0.42      Ideal     E    VVS1   61.8   56.0   1176  4.81  4.83  2.98\n",
            "52675   0.88       Fair     I     VS2   57.4   67.0   2550  6.49  6.36  3.69\n",
            "25919   2.05    Premium     J     VS1   60.1   58.0  15067  8.25  8.19  4.94\n",
            "\n",
            "GET RANDOM SAMPLES\n",
            "\n",
            "                 1. Get 1 RANDOM Sample\n",
            "                 2. Get 3 RANDOM Sample\n",
            "                 3. Get 5 RANDOM Sample\n",
            "                 4. Get 7 RANDOM Sample\n",
            "                 5. Get 10 RANDOM Sample\n",
            "                 0. EXIT\n",
            "Option : 0\n"
          ],
          "name": "stdout"
        }
      ]
    },
    {
      "cell_type": "markdown",
      "metadata": {
        "id": "IAwXnypeCRG6"
      },
      "source": [
        "#Problem 18\n",
        "Write a Pandas program to get sample 75% of the diamonds DataFrame's rows\n",
        "without replacement and store the remaining 25% of the rows in another\n",
        "DataFrame.\n",
        "#Answer\n"
      ]
    },
    {
      "cell_type": "code",
      "metadata": {
        "id": "QwLzBVfRFcAs",
        "colab": {
          "base_uri": "https://localhost:8080/",
          "height": 68
        },
        "outputId": "82cecd8d-a2ba-4444-fd70-a13bc46c0243"
      },
      "source": [
        "L = [int(i) for i in input(\"Distribution [eg. 75:25 or 3:1]\\nRatio : \").split(\":\")]\n",
        "L"
      ],
      "execution_count": null,
      "outputs": [
        {
          "output_type": "stream",
          "text": [
            "Distribution [eg. 75:25 or 3:1]\n",
            "Ratio : 3:1\n"
          ],
          "name": "stdout"
        },
        {
          "output_type": "execute_result",
          "data": {
            "text/plain": [
              "[3, 1]"
            ]
          },
          "metadata": {
            "tags": []
          },
          "execution_count": 332
        }
      ]
    },
    {
      "cell_type": "code",
      "metadata": {
        "id": "JeQoAjCIBzyl",
        "colab": {
          "base_uri": "https://localhost:8080/",
          "height": 68
        },
        "outputId": "10cc0b68-c1f0-4441-b128-971e2d88284c"
      },
      "source": [
        "#PARTITIONING POINT:: int(Diamonds.shape[0]*(L[0]/sum(L)))\n",
        "\n",
        "DF75 = Diamonds.iloc[:int(Diamonds.shape[0]*L[0]/sum(L)), :]\n",
        "DF25 = Diamonds.iloc[int(Diamonds.shape[0]*L[0]/sum(L)):, :]\n",
        "\n",
        "print(\"75% Diamonds Dataframe Size :: \", DF75.shape, \"\\n25% Diamonds Dataframe Size :: \", DF25.shape, \n",
        "      \"\\n \\t    Total Data Size :: \",Diamonds.shape)"
      ],
      "execution_count": null,
      "outputs": [
        {
          "output_type": "stream",
          "text": [
            "75% Diamonds Dataframe Size ::  (40455, 10) \n",
            "25% Diamonds Dataframe Size ::  (13485, 10) \n",
            " \t    Total Data Size ::  (53940, 10)\n"
          ],
          "name": "stdout"
        }
      ]
    },
    {
      "cell_type": "markdown",
      "metadata": {
        "id": "6mdBJqjwCZip"
      },
      "source": [
        "#Problem 19 : \n",
        "Write a Pandas program to read the diamonds DataFrame and detect duplicate color.\n",
        "#Answer\n"
      ]
    },
    {
      "cell_type": "code",
      "metadata": {
        "id": "H2Kq1jqeFKGF",
        "colab": {
          "base_uri": "https://localhost:8080/",
          "height": 221
        },
        "outputId": "c1183459-4b91-4e6e-e96d-abc469638a94"
      },
      "source": [
        "Diamonds['color'][Diamonds['color'].duplicated()]"
      ],
      "execution_count": null,
      "outputs": [
        {
          "output_type": "execute_result",
          "data": {
            "text/plain": [
              "1        E\n",
              "2        E\n",
              "5        J\n",
              "6        I\n",
              "8        E\n",
              "        ..\n",
              "53935    D\n",
              "53936    D\n",
              "53937    D\n",
              "53938    H\n",
              "53939    D\n",
              "Name: color, Length: 53933, dtype: object"
            ]
          },
          "metadata": {
            "tags": []
          },
          "execution_count": 331
        }
      ]
    },
    {
      "cell_type": "markdown",
      "metadata": {
        "id": "I28fO2qOCZ39"
      },
      "source": [
        "#Problem 20\n",
        "Write a Pandas program to count the duplicate rows of diamonds DataFrame.\n",
        "#Answer\n"
      ]
    },
    {
      "cell_type": "code",
      "metadata": {
        "id": "_JVviek1CZ3_",
        "colab": {
          "base_uri": "https://localhost:8080/",
          "height": 34
        },
        "outputId": "2b4cd3d7-19fd-4ca9-8b83-9a4c047e5b1c"
      },
      "source": [
        "Diamonds.duplicated().sum()"
      ],
      "execution_count": null,
      "outputs": [
        {
          "output_type": "execute_result",
          "data": {
            "text/plain": [
              "146"
            ]
          },
          "metadata": {
            "tags": []
          },
          "execution_count": 330
        }
      ]
    },
    {
      "cell_type": "markdown",
      "metadata": {
        "id": "0t9pHQOj2R1G"
      },
      "source": [
        "#PRACTICE CODE"
      ]
    },
    {
      "cell_type": "code",
      "metadata": {
        "id": "-DfRTMi32UWg"
      },
      "source": [
        "\"\"\"print(\"COLUMNS :: \", Diamonds.columns.values)\n",
        "while(1):\n",
        "  x = int(input(\"Read a COLUME \\n\\n1. Number\\n2. Name\\n3. EXIT\\nOption :: \"))\n",
        "  if (x == 1):\n",
        "    x = int(input(\"\\nEnter Column NUMBER to Analyze\\nOption :: \"))\n",
        "    print(Diamonds.iloc[:,x])\n",
        "  elif (x == 2):\n",
        "    x = input(\"\\nEnter Column NAME to Analyze\\nOption :: \")\n",
        "    print(Diamonds.loc[:, x])\n",
        "  elif (x == 3):\n",
        "    break\n",
        "  else:\n",
        "    print(\"\\nInvalid Choice\\n\")\"\"\"\n"
      ],
      "execution_count": null,
      "outputs": []
    }
  ]
}