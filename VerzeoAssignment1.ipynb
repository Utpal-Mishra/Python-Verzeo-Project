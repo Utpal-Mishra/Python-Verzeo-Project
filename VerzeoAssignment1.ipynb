{
  "nbformat": 4,
  "nbformat_minor": 0,
  "metadata": {
    "colab": {
      "name": "VerzeoAssignment1.ipynb",
      "provenance": [],
      "collapsed_sections": [],
      "authorship_tag": "ABX9TyNAdlYCj+SQCgZwhF6v7qdK",
      "include_colab_link": true
    },
    "kernelspec": {
      "name": "python3",
      "display_name": "Python 3"
    }
  },
  "cells": [
    {
      "cell_type": "markdown",
      "metadata": {
        "id": "view-in-github",
        "colab_type": "text"
      },
      "source": [
        "<a href=\"https://colab.research.google.com/github/Utpal-Mishra/Python-Verzeo-Project/blob/main/VerzeoAssignment1.ipynb\" target=\"_parent\"><img src=\"https://colab.research.google.com/assets/colab-badge.svg\" alt=\"Open In Colab\"/></a>"
      ]
    },
    {
      "cell_type": "markdown",
      "metadata": {
        "id": "Eb_NsuyQ2uRP"
      },
      "source": [
        "###Question 1\n",
        "###Answer: "
      ]
    },
    {
      "cell_type": "code",
      "metadata": {
        "id": "DftffvtR2uRV"
      },
      "source": [
        "D1={1:10, 2:20}\n",
        "D2={3:30, 4:40}\n",
        "D3={5:50, 6:60}"
      ],
      "execution_count": null,
      "outputs": []
    },
    {
      "cell_type": "code",
      "metadata": {
        "id": "0ozSu04e2uRe",
        "colab": {
          "base_uri": "https://localhost:8080/",
          "height": 34
        },
        "outputId": "51d0616c-5f46-4aaf-b77a-0699a45d5a1b"
      },
      "source": [
        "\"\"\"\n",
        "from collections import ChainMap\n",
        "DResult = ChainMap(D1, D2, D3)\n",
        "DResult #ChainMap({1: 10, 2: 20}, {3: 30, 4: 40}, {5: 50, 6: 60})\"\"\"\n",
        "\n",
        "DResult = {}\n",
        "for i in (D1, D2, D3):\n",
        "  DResult.update(i)\n",
        "print(\"Concatenated Dictionary: \",DResult)"
      ],
      "execution_count": null,
      "outputs": [
        {
          "output_type": "stream",
          "text": [
            "Concatenated Dictionary:  {1: 10, 2: 20, 3: 30, 4: 40, 5: 50, 6: 60}\n"
          ],
          "name": "stdout"
        }
      ]
    },
    {
      "cell_type": "markdown",
      "metadata": {
        "id": "q4LRA9ZX2G7o"
      },
      "source": [
        "###Question 2\n",
        "###Answer: "
      ]
    },
    {
      "cell_type": "code",
      "metadata": {
        "id": "Rf3GrSWd2G8C",
        "colab": {
          "base_uri": "https://localhost:8080/",
          "height": 34
        },
        "outputId": "730f5d8c-2dbc-4a34-c8e7-d52920d7c720"
      },
      "source": [
        "DResult\n",
        "#Sample Key 1\n",
        "#Sample Key 7"
      ],
      "execution_count": null,
      "outputs": [
        {
          "output_type": "execute_result",
          "data": {
            "text/plain": [
              "{1: 10, 2: 20, 3: 30, 4: 40, 5: 50, 6: 60}"
            ]
          },
          "metadata": {
            "tags": []
          },
          "execution_count": 110
        }
      ]
    },
    {
      "cell_type": "code",
      "metadata": {
        "id": "4fq1DAEB2G7r",
        "colab": {
          "base_uri": "https://localhost:8080/",
          "height": 51
        },
        "outputId": "920bd64a-40cb-4987-d53d-1141cfee1d78"
      },
      "source": [
        "print(\"KEY:\", 1, \"in DResult:\",DResult, \":: \", 1 in DResult.keys()) #KEY Found\n",
        "print(\"KEY:\", 7, \"in DResult:\",DResult, \":: \", 7 in DResult.keys()) #KEY Not Found"
      ],
      "execution_count": null,
      "outputs": [
        {
          "output_type": "stream",
          "text": [
            "KEY: 1 in DResult: {1: 10, 2: 20, 3: 30, 4: 40, 5: 50, 6: 60} ::  True\n",
            "KEY: 7 in DResult: {1: 10, 2: 20, 3: 30, 4: 40, 5: 50, 6: 60} ::  False\n"
          ],
          "name": "stdout"
        }
      ]
    },
    {
      "cell_type": "markdown",
      "metadata": {
        "id": "96ukrlJy2Gzl"
      },
      "source": [
        "###Question 3\n",
        "###Answer: "
      ]
    },
    {
      "cell_type": "code",
      "metadata": {
        "id": "SYBkyFOc2Gzn",
        "colab": {
          "base_uri": "https://localhost:8080/",
          "height": 51
        },
        "outputId": "92464502-6ab1-4d2f-c9b0-a1571f017285"
      },
      "source": [
        "start = int(input(\"From: \"))\n",
        "end = int(input(\"To: \"))"
      ],
      "execution_count": null,
      "outputs": [
        {
          "output_type": "stream",
          "text": [
            "From: 1\n",
            "To: 15\n"
          ],
          "name": "stdout"
        }
      ]
    },
    {
      "cell_type": "code",
      "metadata": {
        "id": "YGhaboZd2Gzw",
        "colab": {
          "base_uri": "https://localhost:8080/",
          "height": 34
        },
        "outputId": "8e83a5e6-7db1-4cca-dc44-822d3b0b5996"
      },
      "source": [
        "DResult = {}\n",
        "for i in range(start, end+1):\n",
        "  DResult[i] = i**2\n",
        "print(\"Formed Dictionary: \", DResult)"
      ],
      "execution_count": null,
      "outputs": [
        {
          "output_type": "stream",
          "text": [
            "Formed Dictionary:  {1: 1, 2: 4, 3: 9, 4: 16, 5: 25, 6: 36, 7: 49, 8: 64, 9: 81, 10: 100, 11: 121, 12: 144, 13: 169, 14: 196, 15: 225}\n"
          ],
          "name": "stdout"
        }
      ]
    },
    {
      "cell_type": "markdown",
      "metadata": {
        "id": "DQO6NrVI2Gm2"
      },
      "source": [
        "###Question 4\n",
        "###Answer: "
      ]
    },
    {
      "cell_type": "code",
      "metadata": {
        "id": "E8w6Exnq2Gm5"
      },
      "source": [
        "D = {1: 10, 2: 20, 2: 20, 3: 30, 3: 30, 4: 40, 5: 50, 6: 60, 6: 60, 6: 60}\n",
        "#2 Copies of 2: 20 KEY:VALUE Pair\n",
        "#2 Copies of 3: 30 KEY:VALUE Pair\n",
        "#3 Copies of 6: 60 KEY:VALUE Pair"
      ],
      "execution_count": null,
      "outputs": []
    },
    {
      "cell_type": "markdown",
      "metadata": {
        "id": "RjYKz_mc6rhU"
      },
      "source": [
        "DICTIONARY has a INBULT FEATURE to remove KEY:VALUE Duplicacies :: KEYS are UNIQUE"
      ]
    },
    {
      "cell_type": "code",
      "metadata": {
        "id": "lRl4j8Cu2GnH",
        "colab": {
          "base_uri": "https://localhost:8080/",
          "height": 34
        },
        "outputId": "af92b703-d578-46f1-90b4-100c39d8a562"
      },
      "source": [
        "D #Unique PAIRS"
      ],
      "execution_count": null,
      "outputs": [
        {
          "output_type": "execute_result",
          "data": {
            "text/plain": [
              "{1: 10, 2: 20, 3: 30, 4: 40, 5: 50, 6: 60}"
            ]
          },
          "metadata": {
            "tags": []
          },
          "execution_count": 134
        }
      ]
    },
    {
      "cell_type": "markdown",
      "metadata": {
        "id": "3K1hFQojTZ3S"
      },
      "source": [
        "***ALTERNATIVE SOLUTION"
      ]
    },
    {
      "cell_type": "code",
      "metadata": {
        "id": "7gmatzPsTJSs",
        "colab": {
          "base_uri": "https://localhost:8080/",
          "height": 34
        },
        "outputId": "04b088d3-6802-4fab-a3c3-443d6e5b37f0"
      },
      "source": [
        "#OR\n",
        "\n",
        "DResult = {}\n",
        "\n",
        "for key,value in D.items():\n",
        "    if value not in DResult.values():\n",
        "        DResult[key] = value\n",
        "\n",
        "print(DResult)"
      ],
      "execution_count": null,
      "outputs": [
        {
          "output_type": "stream",
          "text": [
            "{1: 10, 2: 20, 3: 30, 4: 40, 5: 50, 6: 60}\n"
          ],
          "name": "stdout"
        }
      ]
    },
    {
      "cell_type": "markdown",
      "metadata": {
        "id": "QquAQ-h22Gf0"
      },
      "source": [
        "###Question 5\n",
        "###Answer: "
      ]
    },
    {
      "cell_type": "code",
      "metadata": {
        "id": "-4WJedKq8XzO"
      },
      "source": [
        "def letter(D):\n",
        "  Letter = []\n",
        "  for i in D.values():\n",
        "    for k in i:\n",
        "      Letter.append(k)\n",
        "  return Letter"
      ],
      "execution_count": null,
      "outputs": []
    },
    {
      "cell_type": "code",
      "metadata": {
        "id": "eSr4omAF69Yx"
      },
      "source": [
        "D = {'1':['a','b'], '2':['c','d']}\n",
        "#Letter = letter(D)"
      ],
      "execution_count": null,
      "outputs": []
    },
    {
      "cell_type": "code",
      "metadata": {
        "id": "wT5qrI1AGo-O"
      },
      "source": [
        "import itertools\n",
        "\n",
        "Combinations = []\n",
        "for i in range(1,len(letter(D)) +1):\n",
        "  for x in itertools.product(*([Letter] * i)):\n",
        "      Combinations.append(''.join(x))"
      ],
      "execution_count": null,
      "outputs": []
    },
    {
      "cell_type": "code",
      "metadata": {
        "id": "EVQQnkiKIlML",
        "colab": {
          "base_uri": "https://localhost:8080/",
          "height": 1000
        },
        "outputId": "b7e97051-8c20-413e-f0e6-b7f38f7bbdb3"
      },
      "source": [
        "print(\"Total Combinations : \", Letter, \" :: \", len(Combinations))\n",
        "\n",
        "#Print Combinations\n",
        "Combinations"
      ],
      "execution_count": null,
      "outputs": [
        {
          "output_type": "stream",
          "text": [
            "Total Combinations :  ['a', 'b', 'c', 'd']  ::  340\n"
          ],
          "name": "stdout"
        },
        {
          "output_type": "execute_result",
          "data": {
            "text/plain": [
              "['a',\n",
              " 'b',\n",
              " 'c',\n",
              " 'd',\n",
              " 'aa',\n",
              " 'ab',\n",
              " 'ac',\n",
              " 'ad',\n",
              " 'ba',\n",
              " 'bb',\n",
              " 'bc',\n",
              " 'bd',\n",
              " 'ca',\n",
              " 'cb',\n",
              " 'cc',\n",
              " 'cd',\n",
              " 'da',\n",
              " 'db',\n",
              " 'dc',\n",
              " 'dd',\n",
              " 'aaa',\n",
              " 'aab',\n",
              " 'aac',\n",
              " 'aad',\n",
              " 'aba',\n",
              " 'abb',\n",
              " 'abc',\n",
              " 'abd',\n",
              " 'aca',\n",
              " 'acb',\n",
              " 'acc',\n",
              " 'acd',\n",
              " 'ada',\n",
              " 'adb',\n",
              " 'adc',\n",
              " 'add',\n",
              " 'baa',\n",
              " 'bab',\n",
              " 'bac',\n",
              " 'bad',\n",
              " 'bba',\n",
              " 'bbb',\n",
              " 'bbc',\n",
              " 'bbd',\n",
              " 'bca',\n",
              " 'bcb',\n",
              " 'bcc',\n",
              " 'bcd',\n",
              " 'bda',\n",
              " 'bdb',\n",
              " 'bdc',\n",
              " 'bdd',\n",
              " 'caa',\n",
              " 'cab',\n",
              " 'cac',\n",
              " 'cad',\n",
              " 'cba',\n",
              " 'cbb',\n",
              " 'cbc',\n",
              " 'cbd',\n",
              " 'cca',\n",
              " 'ccb',\n",
              " 'ccc',\n",
              " 'ccd',\n",
              " 'cda',\n",
              " 'cdb',\n",
              " 'cdc',\n",
              " 'cdd',\n",
              " 'daa',\n",
              " 'dab',\n",
              " 'dac',\n",
              " 'dad',\n",
              " 'dba',\n",
              " 'dbb',\n",
              " 'dbc',\n",
              " 'dbd',\n",
              " 'dca',\n",
              " 'dcb',\n",
              " 'dcc',\n",
              " 'dcd',\n",
              " 'dda',\n",
              " 'ddb',\n",
              " 'ddc',\n",
              " 'ddd',\n",
              " 'aaaa',\n",
              " 'aaab',\n",
              " 'aaac',\n",
              " 'aaad',\n",
              " 'aaba',\n",
              " 'aabb',\n",
              " 'aabc',\n",
              " 'aabd',\n",
              " 'aaca',\n",
              " 'aacb',\n",
              " 'aacc',\n",
              " 'aacd',\n",
              " 'aada',\n",
              " 'aadb',\n",
              " 'aadc',\n",
              " 'aadd',\n",
              " 'abaa',\n",
              " 'abab',\n",
              " 'abac',\n",
              " 'abad',\n",
              " 'abba',\n",
              " 'abbb',\n",
              " 'abbc',\n",
              " 'abbd',\n",
              " 'abca',\n",
              " 'abcb',\n",
              " 'abcc',\n",
              " 'abcd',\n",
              " 'abda',\n",
              " 'abdb',\n",
              " 'abdc',\n",
              " 'abdd',\n",
              " 'acaa',\n",
              " 'acab',\n",
              " 'acac',\n",
              " 'acad',\n",
              " 'acba',\n",
              " 'acbb',\n",
              " 'acbc',\n",
              " 'acbd',\n",
              " 'acca',\n",
              " 'accb',\n",
              " 'accc',\n",
              " 'accd',\n",
              " 'acda',\n",
              " 'acdb',\n",
              " 'acdc',\n",
              " 'acdd',\n",
              " 'adaa',\n",
              " 'adab',\n",
              " 'adac',\n",
              " 'adad',\n",
              " 'adba',\n",
              " 'adbb',\n",
              " 'adbc',\n",
              " 'adbd',\n",
              " 'adca',\n",
              " 'adcb',\n",
              " 'adcc',\n",
              " 'adcd',\n",
              " 'adda',\n",
              " 'addb',\n",
              " 'addc',\n",
              " 'addd',\n",
              " 'baaa',\n",
              " 'baab',\n",
              " 'baac',\n",
              " 'baad',\n",
              " 'baba',\n",
              " 'babb',\n",
              " 'babc',\n",
              " 'babd',\n",
              " 'baca',\n",
              " 'bacb',\n",
              " 'bacc',\n",
              " 'bacd',\n",
              " 'bada',\n",
              " 'badb',\n",
              " 'badc',\n",
              " 'badd',\n",
              " 'bbaa',\n",
              " 'bbab',\n",
              " 'bbac',\n",
              " 'bbad',\n",
              " 'bbba',\n",
              " 'bbbb',\n",
              " 'bbbc',\n",
              " 'bbbd',\n",
              " 'bbca',\n",
              " 'bbcb',\n",
              " 'bbcc',\n",
              " 'bbcd',\n",
              " 'bbda',\n",
              " 'bbdb',\n",
              " 'bbdc',\n",
              " 'bbdd',\n",
              " 'bcaa',\n",
              " 'bcab',\n",
              " 'bcac',\n",
              " 'bcad',\n",
              " 'bcba',\n",
              " 'bcbb',\n",
              " 'bcbc',\n",
              " 'bcbd',\n",
              " 'bcca',\n",
              " 'bccb',\n",
              " 'bccc',\n",
              " 'bccd',\n",
              " 'bcda',\n",
              " 'bcdb',\n",
              " 'bcdc',\n",
              " 'bcdd',\n",
              " 'bdaa',\n",
              " 'bdab',\n",
              " 'bdac',\n",
              " 'bdad',\n",
              " 'bdba',\n",
              " 'bdbb',\n",
              " 'bdbc',\n",
              " 'bdbd',\n",
              " 'bdca',\n",
              " 'bdcb',\n",
              " 'bdcc',\n",
              " 'bdcd',\n",
              " 'bdda',\n",
              " 'bddb',\n",
              " 'bddc',\n",
              " 'bddd',\n",
              " 'caaa',\n",
              " 'caab',\n",
              " 'caac',\n",
              " 'caad',\n",
              " 'caba',\n",
              " 'cabb',\n",
              " 'cabc',\n",
              " 'cabd',\n",
              " 'caca',\n",
              " 'cacb',\n",
              " 'cacc',\n",
              " 'cacd',\n",
              " 'cada',\n",
              " 'cadb',\n",
              " 'cadc',\n",
              " 'cadd',\n",
              " 'cbaa',\n",
              " 'cbab',\n",
              " 'cbac',\n",
              " 'cbad',\n",
              " 'cbba',\n",
              " 'cbbb',\n",
              " 'cbbc',\n",
              " 'cbbd',\n",
              " 'cbca',\n",
              " 'cbcb',\n",
              " 'cbcc',\n",
              " 'cbcd',\n",
              " 'cbda',\n",
              " 'cbdb',\n",
              " 'cbdc',\n",
              " 'cbdd',\n",
              " 'ccaa',\n",
              " 'ccab',\n",
              " 'ccac',\n",
              " 'ccad',\n",
              " 'ccba',\n",
              " 'ccbb',\n",
              " 'ccbc',\n",
              " 'ccbd',\n",
              " 'ccca',\n",
              " 'cccb',\n",
              " 'cccc',\n",
              " 'cccd',\n",
              " 'ccda',\n",
              " 'ccdb',\n",
              " 'ccdc',\n",
              " 'ccdd',\n",
              " 'cdaa',\n",
              " 'cdab',\n",
              " 'cdac',\n",
              " 'cdad',\n",
              " 'cdba',\n",
              " 'cdbb',\n",
              " 'cdbc',\n",
              " 'cdbd',\n",
              " 'cdca',\n",
              " 'cdcb',\n",
              " 'cdcc',\n",
              " 'cdcd',\n",
              " 'cdda',\n",
              " 'cddb',\n",
              " 'cddc',\n",
              " 'cddd',\n",
              " 'daaa',\n",
              " 'daab',\n",
              " 'daac',\n",
              " 'daad',\n",
              " 'daba',\n",
              " 'dabb',\n",
              " 'dabc',\n",
              " 'dabd',\n",
              " 'daca',\n",
              " 'dacb',\n",
              " 'dacc',\n",
              " 'dacd',\n",
              " 'dada',\n",
              " 'dadb',\n",
              " 'dadc',\n",
              " 'dadd',\n",
              " 'dbaa',\n",
              " 'dbab',\n",
              " 'dbac',\n",
              " 'dbad',\n",
              " 'dbba',\n",
              " 'dbbb',\n",
              " 'dbbc',\n",
              " 'dbbd',\n",
              " 'dbca',\n",
              " 'dbcb',\n",
              " 'dbcc',\n",
              " 'dbcd',\n",
              " 'dbda',\n",
              " 'dbdb',\n",
              " 'dbdc',\n",
              " 'dbdd',\n",
              " 'dcaa',\n",
              " 'dcab',\n",
              " 'dcac',\n",
              " 'dcad',\n",
              " 'dcba',\n",
              " 'dcbb',\n",
              " 'dcbc',\n",
              " 'dcbd',\n",
              " 'dcca',\n",
              " 'dccb',\n",
              " 'dccc',\n",
              " 'dccd',\n",
              " 'dcda',\n",
              " 'dcdb',\n",
              " 'dcdc',\n",
              " 'dcdd',\n",
              " 'ddaa',\n",
              " 'ddab',\n",
              " 'ddac',\n",
              " 'ddad',\n",
              " 'ddba',\n",
              " 'ddbb',\n",
              " 'ddbc',\n",
              " 'ddbd',\n",
              " 'ddca',\n",
              " 'ddcb',\n",
              " 'ddcc',\n",
              " 'ddcd',\n",
              " 'ddda',\n",
              " 'dddb',\n",
              " 'dddc',\n",
              " 'dddd']"
            ]
          },
          "metadata": {
            "tags": []
          },
          "execution_count": 132
        }
      ]
    },
    {
      "cell_type": "markdown",
      "metadata": {
        "id": "ClW0jYRX9HnP"
      },
      "source": [
        "###Question 6\n",
        "###Answer: "
      ]
    },
    {
      "cell_type": "code",
      "metadata": {
        "id": "Pokpi01z9HnS",
        "colab": {
          "base_uri": "https://localhost:8080/",
          "height": 34
        },
        "outputId": "8b9ddba9-1512-45e7-9e5b-66bdb2963c33"
      },
      "source": [
        "s = input(\"String: \")"
      ],
      "execution_count": null,
      "outputs": [
        {
          "output_type": "stream",
          "text": [
            "String: w3resource\n"
          ],
          "name": "stdout"
        }
      ]
    },
    {
      "cell_type": "code",
      "metadata": {
        "id": "tugKssaW9Hnc",
        "colab": {
          "base_uri": "https://localhost:8080/",
          "height": 34
        },
        "outputId": "6ec1c409-f619-469c-98d9-830257716859"
      },
      "source": [
        "DResult = {}\n",
        "for i in s:\n",
        "  DResult[i] = s.count(i)\n",
        "print(\"Character count Dictionary: \", DResult)"
      ],
      "execution_count": null,
      "outputs": [
        {
          "output_type": "stream",
          "text": [
            "Formed Dictionary:  {'w': 1, '3': 1, 'r': 2, 'e': 2, 's': 1, 'o': 1, 'u': 1, 'c': 1}\n"
          ],
          "name": "stdout"
        }
      ]
    },
    {
      "cell_type": "markdown",
      "metadata": {
        "id": "q-YNqf6490Q5"
      },
      "source": [
        "###Question 7\n",
        "###Answer: "
      ]
    },
    {
      "cell_type": "code",
      "metadata": {
        "id": "GvhDQ0qQ9axm",
        "colab": {
          "base_uri": "https://localhost:8080/",
          "height": 34
        },
        "outputId": "3631d877-55cd-43ea-cb03-704e98e07b68"
      },
      "source": [
        "D =  {'Math':81, 'Chemistry':87, 'Physics':83}\n",
        "print(sorted(D.items(), key = lambda k:(k[1], k[0]))) #SORTING"
      ],
      "execution_count": null,
      "outputs": [
        {
          "output_type": "stream",
          "text": [
            "[('Math', 81), ('Physics', 83), ('Chemistry', 87)]\n"
          ],
          "name": "stdout"
        }
      ]
    }
  ]
}